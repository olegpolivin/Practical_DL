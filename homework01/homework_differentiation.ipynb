{
 "cells": [
  {
   "cell_type": "markdown",
   "metadata": {},
   "source": [
    "# Homework 1: Differentiation"
   ]
  },
  {
   "cell_type": "markdown",
   "metadata": {},
   "source": [
    "Since it easy to google every task please please please try to undestand what's going on. The \"just answer\" thing will be not counted, make sure to present derivation of your solution. It is absolutely OK if you found an answer on web then just exercise in $\\LaTeX$ copying it into here."
   ]
  },
  {
   "cell_type": "markdown",
   "metadata": {},
   "source": [
    "Useful links: \n",
    "[1](http://www.machinelearning.ru/wiki/images/2/2a/Matrix-Gauss.pdf)\n",
    "[2](http://www.atmos.washington.edu/~dennis/MatrixCalculus.pdf)\n",
    "[3](http://cal.cs.illinois.edu/~johannes/research/matrix%20calculus.pdf)\n",
    "[4](http://research.microsoft.com/en-us/um/people/cmbishop/prml/index.htm)"
   ]
  },
  {
   "cell_type": "markdown",
   "metadata": {},
   "source": [
    "## ex. 1"
   ]
  },
  {
   "cell_type": "markdown",
   "metadata": {},
   "source": [
    "$$  \n",
    "y = x^Tx,  \\quad x \\in \\mathbb{R}^N \n",
    "$$"
   ]
  },
  {
   "cell_type": "markdown",
   "metadata": {},
   "source": [
    "$$\n",
    "\\frac{dy}{dx} = 2x^TI,\n",
    "$$\n",
    "where $I$ is an [N x N] identity matrix."
   ]
  },
  {
   "cell_type": "markdown",
   "metadata": {
    "collapsed": true
   },
   "source": [
    "Vector $x$ is a column vector and thus has a dimension $[N x 1]$. Therefore, we could write out $y$ as:\n",
    "$$\n",
    "x^Tx = [x_1, x_2,..., x_N] \\cdot [x_1, x_2, ..., x_N]^T \n",
    "= x_1^2 + x_2 ^2 + ... + x_n^2\n",
    "$$\n",
    "Taking the derivative $\\frac{dy}{dx}$ means taking derivative of y which is a scalar with respect to every element $x_1, x_2, ..., x_n$.\n",
    "It gives the following [N x 1] matrix:\n",
    "\n",
    "$$\n",
    "\\frac{dy}{dx} = [2x_1, 2x_2, ..., 2x_n],\n",
    "$$\n",
    "that could be written in the form as above, that is 2x^TI.\n",
    "\n",
    "QED."
   ]
  },
  {
   "cell_type": "markdown",
   "metadata": {},
   "source": [
    "## ex. 2"
   ]
  },
  {
   "cell_type": "markdown",
   "metadata": {},
   "source": [
    "$$ y = tr(AB) \\quad A,B \\in \\mathbb{R}^{N \\times N} $$ "
   ]
  },
  {
   "cell_type": "markdown",
   "metadata": {},
   "source": [
    "$$\n",
    "\\frac{dy}{dA} = B^T\n",
    "$$"
   ]
  },
  {
   "cell_type": "markdown",
   "metadata": {
    "collapsed": true
   },
   "source": [
    "We could notice that the product of two square matrices could be written as:\n",
    "$$\n",
    "\\sum_{i,j}A_{ij}B_{ji},\n",
    "$$\n",
    "and so is just a scalar.\n",
    "\n",
    "Taking the derivative of $y$ with respect to A means taking a derivative of a scalar with respect to every element of matrix $A$, that is A_{ij}, and writing it down into a new matrix which has the same dimensions as $A$ that is [N x N]. \n",
    "Therefore we the result is the following matrix: $B_{ji}$ which is just $B^T$."
   ]
  },
  {
   "cell_type": "markdown",
   "metadata": {},
   "source": [
    "## ex. 3"
   ]
  },
  {
   "cell_type": "markdown",
   "metadata": {},
   "source": [
    "$$  \n",
    "y = x^TAc , \\quad A\\in \\mathbb{R}^{N \\times N}, x\\in \\mathbb{R}^{N}, c\\in \\mathbb{R}^{N} \n",
    "$$"
   ]
  },
  {
   "cell_type": "markdown",
   "metadata": {},
   "source": [
    "$$\n",
    "\\frac{dy}{dx} = c^TA^T\n",
    "$$"
   ]
  },
  {
   "cell_type": "markdown",
   "metadata": {},
   "source": [
    "$$\n",
    "\\frac{dy}{dA} = xc^T\n",
    "$$ "
   ]
  },
  {
   "cell_type": "markdown",
   "metadata": {},
   "source": [
    "Hint for the latter (one of the ways): use *ex. 2* result and the fact \n",
    "$$\n",
    "tr(ABC) = tr (CAB)\n",
    "$$"
   ]
  },
  {
   "cell_type": "markdown",
   "metadata": {
    "collapsed": true
   },
   "source": [
    "The key for the derivation is understanding that $y$ is a scalar.\n",
    "\n",
    "**I. Derivation of the first expression:**\n",
    "\n",
    "Define a new matrix $B = Ac$. Its dimension would be [N x 1]. We could rewrite $y = x^TAc$ as\n",
    "\n",
    "$$\n",
    "y = x^TB\n",
    "$$\n",
    "\n",
    "Notice that \n",
    "$$B = [B_1, B_2, ..., B_n]^T,$$\n",
    "where\n",
    "$$\n",
    "B_i = \\sum_{j=1}^n a_{ij}c_j\n",
    "$$\n",
    "Therefore, the derivative $dy/dx$ is, actually, just matrix B^T. \n",
    "It gives the answer:\n",
    "$$\n",
    "\\frac{dy}{dx} = B^T = c^TA^T \n",
    "$$\n",
    "\n",
    "**II. Derivation of the second expression:**\n",
    "\n",
    "Notice that $y$ is a scalar. It means that\n",
    "$$\n",
    "tr(y) = y = tr(x^TAc) = tr(cx^TA)\n",
    "$$\n",
    "Using the result from ex.2 it follows that \n",
    "$$\n",
    "\\frac{dy}{dx} = (cx^T)^T = xc^T\n",
    "$$"
   ]
  },
  {
   "cell_type": "markdown",
   "metadata": {},
   "source": [
    "## ex. 4"
   ]
  },
  {
   "cell_type": "markdown",
   "metadata": {},
   "source": [
    "Classic matrix factorization example. Given matrix $X$ you need to find $A$, $S$ to approximate $X$. This can be done by simple gradient descent iteratively alternating $A$ and $S$ updates.\n",
    "$$\n",
    "J = || X - AS ||_F^2  , \\quad A\\in \\mathbb{R}^{N \\times R} , \\quad S\\in \\mathbb{R}^{R \\times M}\n",
    "$$\n",
    "$$\n",
    "\\frac{dJ}{dS} = ? \n",
    "$$ "
   ]
  },
  {
   "cell_type": "markdown",
   "metadata": {},
   "source": [
    "### First approach\n",
    "Using ex.2 and the fact:\n",
    "$$\n",
    "|| X ||_F^2 = tr(XX^T) \n",
    "$$ \n",
    "it is easy to derive gradients (you can find it in one of the refs). "
   ]
  },
  {
   "cell_type": "markdown",
   "metadata": {
    "collapsed": true
   },
   "source": [
    "### Second approach\n",
    "You can use *slightly different techniques* if they suits you. Take a look at this derivation:\n",
    "<img src=\"grad.png\">\n",
    "(excerpt from [Handbook of blind source separation, Jutten, page 517](https://books.google.ru/books?id=PTbj03bYH6kC&printsec=frontcover&dq=Handbook+of+Blind+Source+Separation&hl=en&sa=X&ved=0ahUKEwi-q_apiJDLAhULvXIKHVXJDWcQ6AEIHDAA#v=onepage&q=Handbook%20of%20Blind%20Source%20Separation&f=false), open for better picture)."
   ]
  },
  {
   "cell_type": "markdown",
   "metadata": {
    "collapsed": true
   },
   "source": [
    "### Third approach\n",
    "And finally we can use chain rule! **YOUR TURN** to do it.\n",
    "let $ F = AS $ \n",
    "\n",
    "**Find**\n",
    "$$\n",
    "\\frac{dJ}{dF} = -\\frac{X-F}{J}\n",
    "$$ \n",
    "and \n",
    "$$\n",
    "\\frac{dF}{dS} =  see\\ below\n",
    "$$ \n",
    "(the shape should be $ NM \\times RM )$.\n",
    "\n",
    "Now it is easy do get desired gradients:\n",
    "$$\n",
    "\\frac{dJ}{dS} = \\frac{dJ}{dF}\\frac{dF}{dS} = -\\frac{1}{J}\\cdot B(A-AS)\n",
    "$$ "
   ]
  },
  {
   "cell_type": "markdown",
   "metadata": {
    "collapsed": true
   },
   "source": [
    "First, let's write out the Frobenius norm in the following way:\n",
    "$$\n",
    "J = || X - F ||_F^2 = \\sqrt{\\sum_{i=1}^m{\\sum_{j=1}^n{(x_{ij} - f_{ij})^2}}}\n",
    "$$\n",
    "\n",
    "Then we could find $dJ/dF$ given that representation. It would be equal to:\n",
    "$$\n",
    "\\frac{dJ}{dF} = -\\frac{X-F}{J}\n",
    "$$\n",
    "\n",
    "Now let's find the derivative of the second expression:\n",
    "$$\n",
    "\\frac{dF}{dS} = \\frac{dAS}{dS}\n",
    "$$\n",
    "The difficulty here is that we take a derivative of a matrix by a matrix, so the resulting shape is $[NM x RM]$.\n",
    "I think the result will be a block matrix B of the following structure:\n",
    "$$\n",
    "a_{11}\\ 0\\ 0\\ \\|\\ 0\\ a_{11}\\ 0\\|\\ ... \\|\\ 0\\ 0 \\ ... \\ a_{11} \\\\\n",
    "a_{12}\\ 0\\ 0\\ \\|\\ 0\\ a_{12}\\ 0\\|\\ ... \\|\\ 0\\ 0 \\ ... \\ a_{12} \\\\\n",
    " \\\\\n",
    "a_{1r}\\ 0\\ 0\\ \\|\\ 0\\ a_{1r}\\ 0\\|\\ ... \\|\\ 0\\ 0 \\ ... \\ a_{1r} \\\\\n",
    "....................................\\\\\n",
    "a_{21}\\ 0\\ 0\\ \\|\\ 0\\ a_{21}\\ 0\\|\\ ... \\|\\ 0\\ 0 \\ ... \\ a_{21} \\\\\n",
    "a_{22}\\ 0\\ 0\\ \\|\\ 0\\ a_{22}\\ 0\\|\\ ... \\|\\ 0\\ 0 \\ ... \\ a_{22} \\\\\n",
    "\\\\\n",
    "a_{2r}\\ 0\\ 0\\ \\|\\ 0\\ a_{2r}\\ 0\\|\\ ... \\|\\ 0\\ 0 \\ ... \\ a_{2r} \\\\\n",
    "....................................\\\\\n",
    "a_{n1}\\ 0\\ 0\\ \\|\\ 0\\ a_{n1}\\ 0\\|\\ ... \\|\\ 0\\ 0 \\ ... \\ a_{n1} \\\\\n",
    "a_{n2}\\ 0\\ 0\\ \\|\\ 0\\ a_{n2}\\ 0\\|\\ ... \\|\\ 0\\ 0 \\ ... \\ a_{n2} \\\\\n",
    "\\\\\n",
    "a_{nr}\\ 0\\ 0\\ \\|\\ 0\\ a_{nr}\\ 0\\|\\ ... \\|\\ 0\\ 0 \\ ... \\ a_{nr} \\\\\n",
    "$$\n",
    "Each block here is an $RxM$ matrix, and there are $NxM$ such blocks.\n",
    "\n",
    "Therefore, the result we are looking for is:\n",
    "$$\n",
    "\\frac{dJ}{dS} = \\frac{dJ}{dF}\\frac{dF}{dS} = -\\frac{1}{J}\\cdot B(A-AS)\n",
    "$$ "
   ]
  }
 ],
 "metadata": {
  "kernelspec": {
   "display_name": "Python 3",
   "language": "python",
   "name": "python3"
  },
  "language_info": {
   "codemirror_mode": {
    "name": "ipython",
    "version": 3
   },
   "file_extension": ".py",
   "mimetype": "text/x-python",
   "name": "python",
   "nbconvert_exporter": "python",
   "pygments_lexer": "ipython3",
   "version": "3.7.6"
  }
 },
 "nbformat": 4,
 "nbformat_minor": 1
}
