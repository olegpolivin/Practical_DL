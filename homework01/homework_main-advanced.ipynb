{
 "cells": [
  {
   "cell_type": "markdown",
   "metadata": {},
   "source": [
    "# Homework: Not So Basic Artificial Neural Networks"
   ]
  },
  {
   "cell_type": "markdown",
   "metadata": {},
   "source": [
    "Your task is to implement a simple framework for convolutional neural networks training. While convolutional neural networks is a subject of lecture 3, we expect that there are a lot of students who are familiar with the topic.\n",
    "\n",
    "In order to successfully pass this homework, you will have to:\n",
    "\n",
    "- Implement all the blocks in `homework_modules.ipynb` (esp `Conv2d` and `MaxPool2d` layers). Good implementation should pass all the tests in `homework_test_modules.ipynb`.\n",
    "- Settle with a bit of math in `homework_differentiation.ipynb`\n",
    "- Train a CNN that has at least one `Conv2d` layer, `MaxPool2d` layer and `BatchNormalization` layer and achieves at least 97% accuracy on MNIST test set.\n",
    "\n",
    "Feel free to use `homework_main-basic.ipynb` for debugging or as source of code snippets. "
   ]
  },
  {
   "cell_type": "markdown",
   "metadata": {},
   "source": [
    "Note, that this homework requires sending **multiple** files, please do not forget to include all the files when sending to TA. The list of files:\n",
    "- This notebook with cnn trained\n",
    "- `homework_modules.ipynb`\n",
    "- `homework_differentiation.ipynb`"
   ]
  },
  {
   "cell_type": "code",
   "execution_count": 1,
   "metadata": {},
   "outputs": [],
   "source": [
    "%matplotlib inline\n",
    "from time import time, sleep\n",
    "import numpy as np\n",
    "import matplotlib.pyplot as plt\n",
    "from IPython import display"
   ]
  },
  {
   "cell_type": "code",
   "execution_count": 2,
   "metadata": {},
   "outputs": [],
   "source": [
    "# (re-)load layers\n",
    "%run homework_modules.ipynb"
   ]
  },
  {
   "cell_type": "code",
   "execution_count": 3,
   "metadata": {},
   "outputs": [],
   "source": [
    "# batch generator\n",
    "def get_batches(dataset, batch_size):\n",
    "    X, Y = dataset\n",
    "    n_samples = X.shape[0]\n",
    "        \n",
    "    # Shuffle at the start of epoch\n",
    "    indices = np.arange(n_samples)\n",
    "    np.random.shuffle(indices)\n",
    "    \n",
    "    for start in range(0, n_samples, batch_size):\n",
    "        end = min(start + batch_size, n_samples)\n",
    "        \n",
    "        batch_idx = indices[start:end]\n",
    "    \n",
    "        yield X[batch_idx], Y[batch_idx]"
   ]
  },
  {
   "cell_type": "code",
   "execution_count": 4,
   "metadata": {},
   "outputs": [],
   "source": [
    "import mnist\n",
    "X_train, y_train, X_val, y_val, X_test, y_test = mnist.load_dataset()  # your dataset"
   ]
  },
  {
   "cell_type": "code",
   "execution_count": 5,
   "metadata": {},
   "outputs": [],
   "source": [
    "# Your turn - train and evaluate conv neural network"
   ]
  },
  {
   "cell_type": "markdown",
   "metadata": {},
   "source": [
    "### 1 Set up the neural network and train it"
   ]
  },
  {
   "cell_type": "code",
   "execution_count": 6,
   "metadata": {},
   "outputs": [],
   "source": [
    "from sklearn.preprocessing import OneHotEncoder\n",
    "ohe = OneHotEncoder()\n",
    "y_train_ohe = ohe.fit_transform(y_train.reshape(-1, 1)).toarray()\n",
    "y_val_ohe = ohe.transform(y_val.reshape(-1, 1)).toarray()\n",
    "y_test_ohe = ohe.transform(y_test.reshape(-1, 1)).toarray()"
   ]
  },
  {
   "cell_type": "code",
   "execution_count": 7,
   "metadata": {},
   "outputs": [],
   "source": [
    "# Optimizer\n",
    "config = {\n",
    "    'learning_rate' : 1e-3,\n",
    "    'beta1' : 0.99,\n",
    "    'beta2' : 0.999,\n",
    "    'epsilon' : 1e-8\n",
    "}"
   ]
  },
  {
   "cell_type": "code",
   "execution_count": 8,
   "metadata": {},
   "outputs": [],
   "source": [
    "# batch_size = 32\n",
    "# batches = get_batches((X_train, y_train), batch_size)\n",
    "# epochs = 5\n",
    "\n",
    "net = Sequential()\n",
    "\n",
    "# conv2d\n",
    "conv_01 = Conv2d(1, 64, 3)\n",
    "conv_02 = Conv2d(64, 128, 3)\n",
    "\n",
    "# maxpool2d\n",
    "maxpool_01 = MaxPool2d(2)\n",
    "maxpool_02 = MaxPool2d(2)\n",
    "\n",
    "# Linear layer\n",
    "n_in = X_train.shape[1] * X_train.shape[2]\n",
    "n_in = 12544\n",
    "linear_01 = Linear(n_in, 32)\n",
    "linear_02 = Linear(32, 10)\n",
    "\n",
    "# LogSoftmax layer\n",
    "lsm = LogSoftMax()\n",
    "\n",
    "# Stable negative likelihood criterion\n",
    "nll = ClassNLLCriterion()\n",
    "\n",
    "net.add(conv_01) # bs x 64 x 28 x 28\n",
    "net.add(ReLU())  # bs x 64 x 28 x 28\n",
    "net.add(maxpool_01) # bs x 64 x 14 x 14\n",
    "# net.add(conv_02) # bs x 128 x 14 x 14\n",
    "net.add(ReLU())    # bs x 128 x 14 x 14\n",
    "# net.add(maxpool_02) # bs x 128 x 7 x 7\n",
    "net.add(Flatten()) # bs x 6272\n",
    "net.add(linear_01)\n",
    "net.add(ReLU())\n",
    "net.add(linear_02)\n",
    "net.add(ReLU())\n",
    "net.add(lsm)"
   ]
  },
  {
   "cell_type": "code",
   "execution_count": 9,
   "metadata": {},
   "outputs": [
    {
     "name": "stdout",
     "output_type": "stream",
     "text": [
      "Conv2d 1 -> 64\n",
      "ReLU\n",
      "MaxPool2d, kern 2, stride 2\n",
      "ReLU\n",
      "Flatten\n",
      "Linear 12544 -> 32\n",
      "ReLU\n",
      "Linear 32 -> 10\n",
      "ReLU\n",
      "LogSoftMax\n",
      "\n"
     ]
    }
   ],
   "source": [
    "# 32*64*14*14\n",
    "print(net)"
   ]
  },
  {
   "cell_type": "markdown",
   "metadata": {},
   "source": [
    "Print here your accuracy on test set. It should be >97%. Don't forget to switch the network in 'evaluate' mode"
   ]
  },
  {
   "cell_type": "code",
   "execution_count": 10,
   "metadata": {},
   "outputs": [
    {
     "ename": "NameError",
     "evalue": "name 'acc_train' is not defined",
     "output_type": "error",
     "traceback": [
      "\u001b[0;31m---------------------------------------------------------------------------\u001b[0m",
      "\u001b[0;31mNameError\u001b[0m                                 Traceback (most recent call last)",
      "\u001b[0;32m<ipython-input-10-facf9b56725b>\u001b[0m in \u001b[0;36m<module>\u001b[0;34m\u001b[0m\n\u001b[1;32m     20\u001b[0m \u001b[0;34m\u001b[0m\u001b[0m\n\u001b[1;32m     21\u001b[0m     \u001b[0mloss_train\u001b[0m \u001b[0;34m=\u001b[0m \u001b[0mnll\u001b[0m\u001b[0;34m.\u001b[0m\u001b[0mupdateOutput\u001b[0m\u001b[0;34m(\u001b[0m\u001b[0mout\u001b[0m\u001b[0;34m,\u001b[0m \u001b[0my\u001b[0m\u001b[0;34m)\u001b[0m\u001b[0;34m\u001b[0m\u001b[0;34m\u001b[0m\u001b[0m\n\u001b[0;32m---> 22\u001b[0;31m     \u001b[0mprint\u001b[0m\u001b[0;34m(\u001b[0m\u001b[0;34mf'Train loss/accuracy after epoch {epoch}: {loss_train}/{acc_train}'\u001b[0m\u001b[0;34m)\u001b[0m\u001b[0;34m\u001b[0m\u001b[0;34m\u001b[0m\u001b[0m\n\u001b[0m\u001b[1;32m     23\u001b[0m     \u001b[0mnet\u001b[0m\u001b[0;34m.\u001b[0m\u001b[0mevaluate\u001b[0m\u001b[0;34m(\u001b[0m\u001b[0;34m)\u001b[0m\u001b[0;34m\u001b[0m\u001b[0;34m\u001b[0m\u001b[0m\n\u001b[1;32m     24\u001b[0m \u001b[0;34m\u001b[0m\u001b[0m\n",
      "\u001b[0;31mNameError\u001b[0m: name 'acc_train' is not defined"
     ]
    }
   ],
   "source": [
    "# batches = get_batches((X_train, y_train),128)\n",
    "batch_size = 128\n",
    "epochs = 10\n",
    "# net.train()\n",
    "for epoch in range(epochs):\n",
    "    batches = get_batches((X_train, y_train_ohe), batch_size)\n",
    "    k = 0\n",
    "    for x, y in batches:\n",
    "        out = net.forward(x)\n",
    "\n",
    "        # Calculate gradient wrt to loss function\n",
    "        gradOutput = nll.updateGradInput(out, y)\n",
    "        \n",
    "        # Calculate gradients\n",
    "        net.backward(x, gradOutput)\n",
    "\n",
    "        # Update all parameters\n",
    "        adam_optimizer(net.getParameters(), net.getGradParameters(), config, {})  \n",
    "        k = k + 1\n",
    "        \n",
    "    loss_train = nll.updateOutput(out, y)\n",
    "    net.evaluate()\n",
    "\n",
    "    # Performance on validation set\n",
    "    loss_val = nll.updateOutput(out_val, y_val_ohe)\n",
    "    pred_val = net.forward(X_val).argmax(axis=1)\n",
    "    acc_val = np.mean(pred_val == y_val)\n",
    "    net.train()\n",
    "    print(f'Validation loss/accuracy after epoch {epoch}: {loss_val}/{acc_val}\\n')"
   ]
  },
  {
   "cell_type": "markdown",
   "metadata": {},
   "source": [
    "### 2 Accuracy on test"
   ]
  },
  {
   "cell_type": "code",
   "execution_count": null,
   "metadata": {},
   "outputs": [],
   "source": [
    "net.evaluate()\n",
    "pred_test = net.forward(X_test).argmax(axis=1)\n",
    "acc_test = np.mean(pred_test == y_test)\n",
    "\n",
    "print(f'Accuracy reached on test data: {acc_test}')"
   ]
  }
 ],
 "metadata": {
  "kernelspec": {
   "display_name": "Python 3",
   "language": "python",
   "name": "python3"
  },
  "language_info": {
   "codemirror_mode": {
    "name": "ipython",
    "version": 3
   },
   "file_extension": ".py",
   "mimetype": "text/x-python",
   "name": "python",
   "nbconvert_exporter": "python",
   "pygments_lexer": "ipython3",
   "version": "3.7.6"
  }
 },
 "nbformat": 4,
 "nbformat_minor": 1
}
