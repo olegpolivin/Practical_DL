{
 "cells": [
  {
   "cell_type": "markdown",
   "metadata": {},
   "source": [
    "# Homework: Not So Basic Artificial Neural Networks"
   ]
  },
  {
   "cell_type": "markdown",
   "metadata": {},
   "source": [
    "Your task is to implement a simple framework for convolutional neural networks training. While convolutional neural networks is a subject of lecture 3, we expect that there are a lot of students who are familiar with the topic.\n",
    "\n",
    "In order to successfully pass this homework, you will have to:\n",
    "\n",
    "- Implement all the blocks in `homework_modules.ipynb` (esp `Conv2d` and `MaxPool2d` layers). Good implementation should pass all the tests in `homework_test_modules.ipynb`.\n",
    "- Settle with a bit of math in `homework_differentiation.ipynb`\n",
    "- Train a CNN that has at least one `Conv2d` layer, `MaxPool2d` layer and `BatchNormalization` layer and achieves at least 97% accuracy on MNIST test set.\n",
    "\n",
    "Feel free to use `homework_main-basic.ipynb` for debugging or as source of code snippets. "
   ]
  },
  {
   "cell_type": "markdown",
   "metadata": {},
   "source": [
    "Note, that this homework requires sending **multiple** files, please do not forget to include all the files when sending to TA. The list of files:\n",
    "- This notebook with cnn trained\n",
    "- `homework_modules.ipynb`\n",
    "- `homework_differentiation.ipynb`"
   ]
  },
  {
   "cell_type": "code",
   "execution_count": 1,
   "metadata": {},
   "outputs": [],
   "source": [
    "%matplotlib inline\n",
    "from time import time, sleep\n",
    "import numpy as np\n",
    "import matplotlib.pyplot as plt\n",
    "from IPython import display"
   ]
  },
  {
   "cell_type": "code",
   "execution_count": 2,
   "metadata": {},
   "outputs": [],
   "source": [
    "# (re-)load layers\n",
    "%run homework_modules.ipynb"
   ]
  },
  {
   "cell_type": "code",
   "execution_count": 3,
   "metadata": {},
   "outputs": [],
   "source": [
    "# batch generator\n",
    "def get_batches(dataset, batch_size):\n",
    "    X, Y = dataset\n",
    "    n_samples = X.shape[0]\n",
    "        \n",
    "    # Shuffle at the start of epoch\n",
    "    indices = np.arange(n_samples)\n",
    "    np.random.shuffle(indices)\n",
    "    \n",
    "    for start in range(0, n_samples, batch_size):\n",
    "        end = min(start + batch_size, n_samples)\n",
    "        \n",
    "        batch_idx = indices[start:end]\n",
    "    \n",
    "        yield X[batch_idx], Y[batch_idx]"
   ]
  },
  {
   "cell_type": "code",
   "execution_count": 4,
   "metadata": {},
   "outputs": [],
   "source": [
    "import mnist\n",
    "X_train, y_train, X_val, y_val, X_test, y_test = mnist.load_dataset()  # your dataset"
   ]
  },
  {
   "cell_type": "code",
   "execution_count": 5,
   "metadata": {},
   "outputs": [],
   "source": [
    "# Your turn - train and evaluate conv neural network"
   ]
  },
  {
   "cell_type": "code",
   "execution_count": null,
   "metadata": {},
   "outputs": [],
   "source": [
    "from sklearn.preprocessing import OneHotEncoder\n",
    "ohe = OneHotEncoder()\n",
    "y_train_ohe = ohe.fit_transform(y_train.reshape(-1, 1)).toarray()\n",
    "y_val_ohe = ohe.transform(y_val.reshape(-1, 1)).toarray()\n",
    "y_test_ohe = ohe.transform(y_test.reshape(-1, 1)).toarray()"
   ]
  },
  {
   "cell_type": "markdown",
   "metadata": {},
   "source": [
    "### 1 Set up the neural network"
   ]
  },
  {
   "cell_type": "code",
   "execution_count": 7,
   "metadata": {},
   "outputs": [],
   "source": [
    "# Optimizer\n",
    "config = {\n",
    "    'learning_rate' : 1e-3,\n",
    "    'beta1' : 0.99,\n",
    "    'beta2' : 0.999,\n",
    "    'epsilon' : 1e-8\n",
    "}"
   ]
  },
  {
   "cell_type": "code",
   "execution_count": 8,
   "metadata": {},
   "outputs": [],
   "source": [
    "net = Sequential()\n",
    "# Stable negative likelihood criterion\n",
    "criterion = ClassNLLCriterion()\n",
    "\n",
    "net.add(Conv2d(1, 8, 3))\n",
    "net.add(MaxPool2d(2))\n",
    "net.add(Conv2d(8, 16, 3))\n",
    "net.add(ReLU())\n",
    "net.add(MaxPool2d(2))\n",
    "net.add(Flatten())\n",
    "net.add(Linear(784, 128))\n",
    "net.add(ReLU())\n",
    "net.add(Dropout())\n",
    "net.add(Linear(128, 10))\n",
    "net.add(LogSoftMax())\n",
    "\n",
    "print(net)"
   ]
  },
  {
   "cell_type": "markdown",
   "metadata": {},
   "source": [
    "Print here your accuracy on test set. It should be >97%. Don't forget to switch the network in 'evaluate' mode"
   ]
  },
  {
   "cell_type": "code",
   "execution_count": null,
   "metadata": {
    "scrolled": false
   },
   "outputs": [
    {
     "name": "stdout",
     "output_type": "stream",
     "text": [
      "We are now on epoch 0\n",
      "40\n",
      "80\n",
      "120\n",
      "160\n",
      "Validation loss/accuracy after epoch 0: 0.14846637573483937/0.9557\n",
      "\n",
      "Accuracy reached on test data: 0.9519\n",
      "We are now on epoch 1\n",
      "40\n",
      "80\n",
      "120\n",
      "160\n",
      "Validation loss/accuracy after epoch 1: 0.10196009074691915/0.9702\n",
      "\n",
      "Accuracy reached on test data: 0.9687\n",
      "We are now on epoch 2\n",
      "40\n"
     ]
    }
   ],
   "source": [
    "loss_history = []\n",
    "batch_size = 256\n",
    "epochs = 5\n",
    "net.train()\n",
    "for epoch in range(epochs):\n",
    "    print(f'We are now on epoch {epoch}')\n",
    "    batches = get_batches((X_train, y_train_ohe), batch_size)\n",
    "    k = 0\n",
    "    for x_batch, y_batch in batches:\n",
    "        net.zeroGradParameters()\n",
    "        \n",
    "        # Forward\n",
    "        predictions = net.forward(x_batch)\n",
    "        loss = criterion.forward(predictions, y_batch)\n",
    "    \n",
    "        # Backward\n",
    "        dp = criterion.backward(predictions, y_batch)\n",
    "        net.backward(x_batch, dp)\n",
    "        \n",
    "        # Update weights\n",
    "        adam_optimizer(net.getParameters(),\n",
    "                       net.getGradParameters(),\n",
    "                       config,\n",
    "                       {})\n",
    "        \n",
    "        loss_history.append(loss)\n",
    "\n",
    "    # Performance on validation set\n",
    "    net.evaluate()    \n",
    "    predictions_val = net.forward(X_val)\n",
    "    loss_val = criterion.forward(predictions_val, y_val_ohe)\n",
    "    pred_val = predictions_val.argmax(axis=1)\n",
    "    acc_val = np.mean(pred_val == y_val)\n",
    "    print(f'Validation loss/accuracy after epoch {epoch}: {loss_val}/{acc_val}\\n')\n",
    "    net.train()"
   ]
  },
  {
   "cell_type": "code",
   "execution_count": null,
   "metadata": {},
   "outputs": [],
   "source": [
    "# Visualize\n",
    "display.clear_output(wait=True)\n",
    "plt.figure(figsize=(8, 6))\n",
    "\n",
    "plt.title(\"Training loss\")\n",
    "plt.xlabel(\"#iteration\")\n",
    "plt.ylabel(\"loss\")\n",
    "plt.plot(loss_history, 'b')\n",
    "plt.show()"
   ]
  },
  {
   "cell_type": "markdown",
   "metadata": {},
   "source": [
    "### 2 Accuracy on test"
   ]
  },
  {
   "cell_type": "code",
   "execution_count": null,
   "metadata": {},
   "outputs": [],
   "source": [
    "net.evaluate()\n",
    "pred_test = net.forward(X_test).argmax(axis=1)\n",
    "acc_test = np.mean(pred_test == y_test)\n",
    "\n",
    "print(f'Accuracy reached on test data: {acc_test}')"
   ]
  }
 ],
 "metadata": {
  "kernelspec": {
   "display_name": "Python 3",
   "language": "python",
   "name": "python3"
  },
  "language_info": {
   "codemirror_mode": {
    "name": "ipython",
    "version": 3
   },
   "file_extension": ".py",
   "mimetype": "text/x-python",
   "name": "python",
   "nbconvert_exporter": "python",
   "pygments_lexer": "ipython3",
   "version": "3.7.6"
  }
 },
 "nbformat": 4,
 "nbformat_minor": 1
}
