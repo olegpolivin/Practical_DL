{
 "cells": [
  {
   "cell_type": "markdown",
   "metadata": {
    "colab_type": "text",
    "id": "NqtXrZApBkM4"
   },
   "source": [
    "# Optimizing training and inference\n",
    "\n",
    "In this notebook, we will discuss different ways to reduce memory and compute usage during training and inference."
   ]
  },
  {
   "cell_type": "markdown",
   "metadata": {
    "colab_type": "text",
    "id": "NEt8wg4JCQdm"
   },
   "source": [
    "## Prepare training script (1 point)\n",
    "\n",
    "When training large models, it is usually a best practice not to use Jupyter notebooks, but run a **separate script** for training which could have command-line flags for various hyperparameters and training modes. This is especially useful when you need to run multiple experiments simultaneously (e.g. on a cluster with task scheduler). Another advantage of this is that after training, the process will finish and free the resources for other users of a shared GPU.\n",
    "\n",
    "In this part, you will need to put all your code to train a model on Tiny ImageNet that you wrote for the previous task in `train.py`.\n",
    "\n",
    "You can then run your script from inside of this notebook like this:"
   ]
  },
  {
   "cell_type": "code",
   "execution_count": 1,
   "metadata": {
    "colab": {},
    "colab_type": "code",
    "id": "6-TWiKq8H9yT",
    "scrolled": false
   },
   "outputs": [
    {
     "name": "stdout",
     "output_type": "stream",
     "text": [
      "Epoch 1 of 1 took 112.016s\n",
      "  (added) training part takes 103.935s to complete\n",
      "  (added) on average one batch of size 64s is processed in 0.035s\n",
      "  training loss (in-iteration): \t4.661176\n",
      "  validation accuracy: \t\t\t14.11 %\n",
      "Evaluating on test data\n",
      "Final results:\n",
      "  test accuracy:\t\t15.28 %\n",
      "We need more magic! Follow instructons below\n",
      "Peak memory usage by Pytorch tensors: 3064.78 Mb\n"
     ]
    }
   ],
   "source": [
    "!python3 train.py --bs=64 --num_epochs=1 --evaluate --sched"
   ]
  },
  {
   "cell_type": "markdown",
   "metadata": {},
   "source": [
    "**Task** \n",
    "\n",
    "Write code for training with architecture from homework_part2\n",
    "\n",
    "**Requirements**\n",
    "* Optional arguments from command line such as batch size and number of epochs with built-in argparse\n",
    "* Modular structure - separate functions for creating data generator, building model and training \n"
   ]
  },
  {
   "cell_type": "markdown",
   "metadata": {
    "colab_type": "text",
    "id": "tKPYZ3QLEqX8"
   },
   "source": [
    "## Profiling time (1 point)\n",
    "\n",
    "For the next tasks, you need to add measurements to your training loop. You can use [`perf_counter`](https://docs.python.org/3/library/time.html#time.perf_counter) for that:"
   ]
  },
  {
   "cell_type": "code",
   "execution_count": 2,
   "metadata": {
    "colab": {},
    "colab_type": "code",
    "id": "bSr-PyQNFkSC"
   },
   "outputs": [],
   "source": [
    "import time\n",
    "import numpy as np\n",
    "import pandas as pd\n",
    "import torch"
   ]
  },
  {
   "cell_type": "code",
   "execution_count": 3,
   "metadata": {
    "colab": {
     "base_uri": "https://localhost:8080/",
     "height": 34
    },
    "colab_type": "code",
    "id": "HMJMCGRKFYCc",
    "outputId": "571046a2-443b-465f-ce62-ddaf68b105d0"
   },
   "outputs": [
    {
     "name": "stdout",
     "output_type": "stream",
     "text": [
      "Matrix multiplication took %.3f seconds\n"
     ]
    }
   ],
   "source": [
    "x = np.random.randn(1000, 1000)\n",
    "y = np.random.randn(1000, 1000)\n",
    "\n",
    "start_counter = time.perf_counter()\n",
    "z = x @ y\n",
    "elapsed_time = time.perf_counter() - start_counter\n",
    "print(\"Matrix multiplication took %.3f seconds\".format(elapsed_time))"
   ]
  },
  {
   "cell_type": "markdown",
   "metadata": {
    "colab_type": "text",
    "id": "FfhLeWjTGTpB"
   },
   "source": [
    "**Task**. You need to add the following measurements to your training script:\n",
    "* How much time a forward-backward pass takes for a single batch;\n",
    "* How much time an epoch takes."
   ]
  },
  {
   "cell_type": "markdown",
   "metadata": {
    "colab_type": "text",
    "id": "khDOTn_SHaND"
   },
   "source": [
    "## Profiling memory usage (1 point)\n",
    "\n",
    "**Task**. You need to measure the memory consumptions\n",
    "\n",
    "This section depends on whether you train on CPU or GPU.\n",
    "\n",
    "### If you train on CPU\n",
    "You can use GNU time to measure peak RAM usage of a script:"
   ]
  },
  {
   "cell_type": "code",
   "execution_count": null,
   "metadata": {
    "colab": {},
    "colab_type": "code",
    "id": "98xvXSjUIDzl"
   },
   "outputs": [],
   "source": [
    "!/usr/bin/time -lp python train.py"
   ]
  },
  {
   "cell_type": "markdown",
   "metadata": {
    "colab_type": "text",
    "id": "v1ES2Pc9IlH5"
   },
   "source": [
    "**Maximum resident set size**  will show you the peak RAM usage in bytes after the script finishes."
   ]
  },
  {
   "cell_type": "markdown",
   "metadata": {},
   "source": [
    "**Note**. \n",
    "Imports also require memory, do the correction"
   ]
  },
  {
   "cell_type": "markdown",
   "metadata": {
    "colab_type": "text",
    "id": "kq5lY5CKJHX1"
   },
   "source": [
    "### If you train on GPU\n",
    "\n",
    "Use [`torch.cuda.max_memory_allocated()`](https://pytorch.org/docs/stable/cuda.html#torch.cuda.max_memory_allocated) at the end of your script to show the maximum amount of memory in bytes used by all tensors."
   ]
  },
  {
   "cell_type": "code",
   "execution_count": 4,
   "metadata": {
    "colab": {
     "base_uri": "https://localhost:8080/",
     "height": 34
    },
    "colab_type": "code",
    "id": "fSQdauqLIkf1",
    "outputId": "8bcffc30-637d-461a-8f44-0e444a28caae"
   },
   "outputs": [
    {
     "name": "stdout",
     "output_type": "stream",
     "text": [
      "Peak memory usage by Pytorch tensors: 3814.70 Mb\n"
     ]
    }
   ],
   "source": [
    "x = torch.randn(1000, 1000, 1000, device='cuda:0')\n",
    "print(f\"Peak memory usage by Pytorch tensors: {(torch.cuda.max_memory_allocated() / 1024 / 1024):.2f} Mb\")"
   ]
  },
  {
   "cell_type": "markdown",
   "metadata": {
    "colab_type": "text",
    "id": "M3RWHxYKBUys"
   },
   "source": [
    "## Gradient based techniques\n",
    "\n",
    "Modern architectures can potentially consume lots and lots of memory even for minibatch of several objects. To handle such cases here we will discuss two simple techniques.\n",
    "\n",
    "### Gradient Checkpointing (3 points)\n",
    "\n",
    "Checkpointing works by trading compute for memory. Rather than storing all intermediate activations of the entire computation graph for computing backward, the checkpointed part does not save intermediate activations, and instead recomputes them in backward pass. It can be applied on any part of a model.\n",
    "\n",
    "See [blogpost](https://medium.com/tensorflow/fitting-larger-networks-into-memory-583e3c758ff9) for kind introduction and different strategies or [article](https://arxiv.org/pdf/1604.06174.pdf) for not kind introduction.\n",
    "\n",
    "**Task**. Use [built-in checkpointing](https://pytorch.org/docs/stable/checkpoint.html), measure the difference in memory/compute \n",
    "\n",
    "**Requirements**. \n",
    "* Try several arrangements for checkpoints\n",
    "* Add the chekpointing as the optional flag into your script\n",
    "* Measure the difference in memory/compute between the different arrangements and baseline "
   ]
  },
  {
   "cell_type": "markdown",
   "metadata": {},
   "source": [
    "A bit of explanation: I created various arrangements in `train.py` script in the `CheckpointedModel` class. I was not sure whether I should present them as special cases and run some `if -> else` statements. So that's what I did. And arrangements differ in that I gradually add `checkpoint_sequential` to the network's blocks.\n",
    "\n",
    "Why do I speak about `blocks` of the network? According to what I could find in the internet, checkpoints do not work properly with `BatchNorm` and `Dropout` layers. So what I did instead is to separate the network into blocks: each block does not have `batchnorm` or `dropout` layer, so each block represents what comes before and after those two special layers.\n",
    "\n",
    "Below I present my results in a pandas table."
   ]
  },
  {
   "cell_type": "code",
   "execution_count": 5,
   "metadata": {
    "scrolled": true
   },
   "outputs": [
    {
     "name": "stdout",
     "output_type": "stream",
     "text": [
      "Epoch 1 of 1 took 113.201s\n",
      "  (added) training part takes 104.612s to complete\n",
      "  (added) on average one batch of size 128s is processed in 0.012s\n",
      "  training loss (in-iteration): \t4.679394\n",
      "  validation accuracy: \t\t\t14.19 %\n",
      "Evaluating on test data\n",
      "Final results:\n",
      "  test accuracy:\t\t14.74 %\n",
      "We need more magic! Follow instructons below\n",
      "Peak memory usage by Pytorch tensors: 5651.73 Mb\n"
     ]
    }
   ],
   "source": [
    "!python3 train.py --bs=128 --num_epochs=1 --evaluate --sched # Baseline model"
   ]
  },
  {
   "cell_type": "code",
   "execution_count": 6,
   "metadata": {},
   "outputs": [
    {
     "name": "stdout",
     "output_type": "stream",
     "text": [
      "Epoch 1 of 1 took 113.525s\n",
      "  (added) training part takes 104.935s to complete\n",
      "  (added) on average one batch of size 128s is processed in 0.012s\n",
      "  training loss (in-iteration): \t4.648259\n",
      "  validation accuracy: \t\t\t15.60 %\n",
      "Evaluating on test data\n",
      "Final results:\n",
      "  test accuracy:\t\t16.01 %\n",
      "We need more magic! Follow instructons below\n",
      "Peak memory usage by Pytorch tensors: 5651.73 Mb\n"
     ]
    }
   ],
   "source": [
    "# Arrangement 0 is the baseline model without checkpointed, but that uses `block structure`,\n",
    "# that is it is the model without checkpoints, but that is constructed using the CheckpointedModel class.\n",
    "# Expectation is that it perform the same time and memory usage as the baseline one\n",
    "!python3 train.py --bs=128 --num_epochs=1 --evaluate --sched --arrangement_num=0"
   ]
  },
  {
   "cell_type": "code",
   "execution_count": 7,
   "metadata": {},
   "outputs": [
    {
     "name": "stdout",
     "output_type": "stream",
     "text": [
      "Epoch 1 of 1 took 113.517s\n",
      "  (added) training part takes 104.951s to complete\n",
      "  (added) on average one batch of size 128s is processed in 0.012s\n",
      "  training loss (in-iteration): \t4.666649\n",
      "  validation accuracy: \t\t\t14.17 %\n",
      "Evaluating on test data\n",
      "Final results:\n",
      "  test accuracy:\t\t15.17 %\n",
      "We need more magic! Follow instructons below\n",
      "Peak memory usage by Pytorch tensors: 5651.73 Mb\n"
     ]
    }
   ],
   "source": [
    "!python3 train.py --bs=128 --num_epochs=1 --evaluate --sched --arrangement_num=1"
   ]
  },
  {
   "cell_type": "code",
   "execution_count": 8,
   "metadata": {},
   "outputs": [
    {
     "name": "stdout",
     "output_type": "stream",
     "text": [
      "Epoch 1 of 1 took 115.267s\n",
      "  (added) training part takes 106.662s to complete\n",
      "  (added) on average one batch of size 128s is processed in 0.013s\n",
      "  training loss (in-iteration): \t4.660592\n",
      "  validation accuracy: \t\t\t15.16 %\n",
      "Evaluating on test data\n",
      "Final results:\n",
      "  test accuracy:\t\t15.96 %\n",
      "We need more magic! Follow instructons below\n",
      "Peak memory usage by Pytorch tensors: 5651.73 Mb\n"
     ]
    }
   ],
   "source": [
    "!python3 train.py --bs=128 --num_epochs=1 --evaluate --sched --arrangement_num=2"
   ]
  },
  {
   "cell_type": "code",
   "execution_count": 9,
   "metadata": {},
   "outputs": [
    {
     "name": "stdout",
     "output_type": "stream",
     "text": [
      "Epoch 1 of 1 took 116.507s\n",
      "  (added) training part takes 107.948s to complete\n",
      "  (added) on average one batch of size 128s is processed in 0.013s\n",
      "  training loss (in-iteration): \t4.669162\n",
      "  validation accuracy: \t\t\t14.52 %\n",
      "Evaluating on test data\n",
      "Final results:\n",
      "  test accuracy:\t\t15.64 %\n",
      "We need more magic! Follow instructons below\n",
      "Peak memory usage by Pytorch tensors: 5494.85 Mb\n"
     ]
    }
   ],
   "source": [
    "!python3 train.py --bs=128 --num_epochs=1 --evaluate --sched --arrangement_num=3"
   ]
  },
  {
   "cell_type": "code",
   "execution_count": 10,
   "metadata": {},
   "outputs": [
    {
     "name": "stdout",
     "output_type": "stream",
     "text": [
      "Epoch 1 of 1 took 116.684s\n",
      "  (added) training part takes 108.135s to complete\n",
      "  (added) on average one batch of size 128s is processed in 0.014s\n",
      "  training loss (in-iteration): \t4.675464\n",
      "  validation accuracy: \t\t\t13.65 %\n",
      "Evaluating on test data\n",
      "Final results:\n",
      "  test accuracy:\t\t14.17 %\n",
      "We need more magic! Follow instructons below\n",
      "Peak memory usage by Pytorch tensors: 5494.85 Mb\n"
     ]
    }
   ],
   "source": [
    "!python3 train.py --bs=128 --num_epochs=1 --evaluate --sched --arrangement_num=4"
   ]
  },
  {
   "cell_type": "code",
   "execution_count": 12,
   "metadata": {},
   "outputs": [
    {
     "name": "stdout",
     "output_type": "stream",
     "text": [
      "Epoch 1 of 1 took 116.729s\n",
      "  (added) training part takes 108.137s to complete\n",
      "  (added) on average one batch of size 128s is processed in 0.014s\n",
      "  training loss (in-iteration): \t4.655618\n",
      "  validation accuracy: \t\t\t15.28 %\n",
      "Evaluating on test data\n",
      "Final results:\n",
      "  test accuracy:\t\t16.06 %\n",
      "We need more magic! Follow instructons below\n",
      "Peak memory usage by Pytorch tensors: 5483.24 Mb\n"
     ]
    }
   ],
   "source": [
    "!python3 train.py --bs=128 --num_epochs=1 --evaluate --sched --arrangement_num=5"
   ]
  },
  {
   "cell_type": "code",
   "execution_count": 13,
   "metadata": {},
   "outputs": [],
   "source": [
    "# Clearly, results change from one run to another, but still stay close\n",
    "results = pd.DataFrame()\n",
    "results.loc['accuracy after 1 epoch on test', 'baseline'] = '14.74%'\n",
    "results.loc['batch size', 'baseline'] = '128'\n",
    "results.loc['time per epoch', 'baseline'] = '113.201s'\n",
    "results.loc['Peak memory usage by Pytorch tensors', 'baseline'] = '5651.73 Mb'\n",
    "\n",
    "results.loc['accuracy after 1 epoch on test', 'arrangement_0'] = '16.01%'\n",
    "results.loc['batch size', 'arrangement_0'] = '128'\n",
    "results.loc['time per epoch', 'arrangement_0'] = '113.525s'\n",
    "results.loc['Peak memory usage by Pytorch tensors', 'arrangement_0'] = '5651.73 Mb'\n",
    "\n",
    "results.loc['accuracy after 1 epoch on test', 'arrangement_1'] = '15.17%'\n",
    "results.loc['batch size', 'arrangement_1'] = '128'\n",
    "results.loc['time per epoch', 'arrangement_1'] = '113.517s'\n",
    "results.loc['Peak memory usage by Pytorch tensors', 'arrangement_1'] = '5651.73 Mb'\n",
    "\n",
    "results.loc['accuracy after 1 epoch on test', 'arrangement_2'] = '15.96%'\n",
    "results.loc['batch size', 'arrangement_2'] = '128'\n",
    "results.loc['time per epoch', 'arrangement_2'] = '115.267s'\n",
    "results.loc['Peak memory usage by Pytorch tensors', 'arrangement_2'] = '5651.73 Mb'\n",
    "\n",
    "results.loc['accuracy after 1 epoch on test', 'arrangement_3'] = '15.64%'\n",
    "results.loc['batch size', 'arrangement_3'] = '128'\n",
    "results.loc['time per epoch', 'arrangement_3'] = '116.507s'\n",
    "results.loc['Peak memory usage by Pytorch tensors', 'arrangement_3'] = '5494.85 Mb'\n",
    "\n",
    "results.loc['accuracy after 1 epoch on test', 'arrangement_4'] = '14.17%'\n",
    "results.loc['batch size', 'arrangement_4'] = '128'\n",
    "results.loc['time per epoch', 'arrangement_4'] = '116.684s'\n",
    "results.loc['Peak memory usage by Pytorch tensors', 'arrangement_4'] = '5494.85 Mb'\n",
    "\n",
    "results.loc['accuracy after 1 epoch on test', 'arrangement_5'] = '16.06%'\n",
    "results.loc['batch size', 'arrangement_5'] = '128'\n",
    "results.loc['time per epoch', 'arrangement_5'] = '116.729s'\n",
    "results.loc['Peak memory usage by Pytorch tensors', 'arrangement_5'] = '5483.24 Mb'"
   ]
  },
  {
   "cell_type": "code",
   "execution_count": 14,
   "metadata": {},
   "outputs": [
    {
     "data": {
      "text/html": [
       "<div>\n",
       "<style scoped>\n",
       "    .dataframe tbody tr th:only-of-type {\n",
       "        vertical-align: middle;\n",
       "    }\n",
       "\n",
       "    .dataframe tbody tr th {\n",
       "        vertical-align: top;\n",
       "    }\n",
       "\n",
       "    .dataframe thead th {\n",
       "        text-align: right;\n",
       "    }\n",
       "</style>\n",
       "<table border=\"1\" class=\"dataframe\">\n",
       "  <thead>\n",
       "    <tr style=\"text-align: right;\">\n",
       "      <th></th>\n",
       "      <th>baseline</th>\n",
       "      <th>arrangement_0</th>\n",
       "      <th>arrangement_1</th>\n",
       "      <th>arrangement_2</th>\n",
       "      <th>arrangement_3</th>\n",
       "      <th>arrangement_4</th>\n",
       "      <th>arrangement_5</th>\n",
       "    </tr>\n",
       "  </thead>\n",
       "  <tbody>\n",
       "    <tr>\n",
       "      <th>accuracy after 1 epoch on test</th>\n",
       "      <td>14.74%</td>\n",
       "      <td>16.01%</td>\n",
       "      <td>15.17%</td>\n",
       "      <td>15.96%</td>\n",
       "      <td>15.64%</td>\n",
       "      <td>14.17%</td>\n",
       "      <td>16.06%</td>\n",
       "    </tr>\n",
       "    <tr>\n",
       "      <th>batch size</th>\n",
       "      <td>128</td>\n",
       "      <td>128</td>\n",
       "      <td>128</td>\n",
       "      <td>128</td>\n",
       "      <td>128</td>\n",
       "      <td>128</td>\n",
       "      <td>128</td>\n",
       "    </tr>\n",
       "    <tr>\n",
       "      <th>time per epoch</th>\n",
       "      <td>113.201s</td>\n",
       "      <td>113.525s</td>\n",
       "      <td>113.517s</td>\n",
       "      <td>115.267s</td>\n",
       "      <td>116.507s</td>\n",
       "      <td>116.684s</td>\n",
       "      <td>116.729s</td>\n",
       "    </tr>\n",
       "    <tr>\n",
       "      <th>Peak memory usage by Pytorch tensors</th>\n",
       "      <td>5651.73 Mb</td>\n",
       "      <td>5651.73 Mb</td>\n",
       "      <td>5651.73 Mb</td>\n",
       "      <td>5651.73 Mb</td>\n",
       "      <td>5494.85 Mb</td>\n",
       "      <td>5494.85 Mb</td>\n",
       "      <td>5483.24 Mb</td>\n",
       "    </tr>\n",
       "  </tbody>\n",
       "</table>\n",
       "</div>"
      ],
      "text/plain": [
       "                                        baseline arrangement_0 arrangement_1  \\\n",
       "accuracy after 1 epoch on test            14.74%        16.01%        15.17%   \n",
       "batch size                                   128           128           128   \n",
       "time per epoch                          113.201s      113.525s      113.517s   \n",
       "Peak memory usage by Pytorch tensors  5651.73 Mb    5651.73 Mb    5651.73 Mb   \n",
       "\n",
       "                                     arrangement_2 arrangement_3  \\\n",
       "accuracy after 1 epoch on test              15.96%        15.64%   \n",
       "batch size                                     128           128   \n",
       "time per epoch                            115.267s      116.507s   \n",
       "Peak memory usage by Pytorch tensors    5651.73 Mb    5494.85 Mb   \n",
       "\n",
       "                                     arrangement_4 arrangement_5  \n",
       "accuracy after 1 epoch on test              14.17%        16.06%  \n",
       "batch size                                     128           128  \n",
       "time per epoch                            116.684s      116.729s  \n",
       "Peak memory usage by Pytorch tensors    5494.85 Mb    5483.24 Mb  "
      ]
     },
     "execution_count": 14,
     "metadata": {},
     "output_type": "execute_result"
    }
   ],
   "source": [
    "results"
   ]
  },
  {
   "cell_type": "markdown",
   "metadata": {},
   "source": [
    "We see that as we checkpoint more layers of the network, the memoery consumption decreases. I must say that I expected it to decrease even more, so there might be a mistake somewhere in my code. Still, it is quite nice to see.\n",
    "\n",
    "Baseline peak memory consumption is `5651 Mb` while the setting where all layers are checkpointed (apart from Batch Norm and Dropout) the peak memory consumption is `5483.24 Mb`, so we won about `200 Mb`. I wonder if I checkpointed the whole model, what would be the tradeoff between accuracy/wrong calculations in the BN and dropout layer and gains in memory consumption.  "
   ]
  },
  {
   "cell_type": "markdown",
   "metadata": {
    "colab_type": "text",
    "id": "mjY8LR_GQbTV"
   },
   "source": [
    "### Accumulating gradient for large batches (3 points)\n",
    "We can increase the effective batch size by simply accumulating gradients over multiple forward passes. Note that `loss.backward()` simply adds the computed gradient to `tensor.grad`, so we can call this method multiple times before actually taking an optimizer step. However, this approach might be a little tricky to combine with batch normalization. Do you see why?"
   ]
  },
  {
   "cell_type": "markdown",
   "metadata": {},
   "source": [
    "**Answer**\n",
    "\n",
    "I think accumulating gradient for large batches is tricky to combine with batch normalization for the following reason. \n",
    "\n",
    "From what I've read, running mean and variance are calculated each forward pass.\n",
    "Then, it follows that running mean and variance will be updated for each batch, and it is different from calculating mean/variance for the `effective batch`. Simply said, updating running mean and variance 32 times for a batch size of 32 is different from updating running mean and variance from one batch of 1024 examples. Therefore, we recalculate mean and variance more frequently than update the parameters of the BN layer in the backward pass.\n",
    "\n",
    "I guess the problem becomes clearer if we think of calculating `mean/variance` from a batch of 2 images (imagine a huge model), and `mean/variance` from, say, 10 images. The latter might be more stable and lead to faster convergence."
   ]
  },
  {
   "cell_type": "code",
   "execution_count": 15,
   "metadata": {
    "colab": {},
    "colab_type": "code",
    "collapsed": true,
    "id": "qbbbO7V0QeGT"
   },
   "outputs": [
    {
     "ename": "NameError",
     "evalue": "name 'DataLoader' is not defined",
     "output_type": "error",
     "traceback": [
      "\u001b[0;31m---------------------------------------------------------------------------\u001b[0m",
      "\u001b[0;31mNameError\u001b[0m                                 Traceback (most recent call last)",
      "\u001b[0;32m<ipython-input-15-939610cc10cd>\u001b[0m in \u001b[0;36m<module>\u001b[0;34m\u001b[0m\n\u001b[1;32m      3\u001b[0m \u001b[0mbatches_per_update\u001b[0m \u001b[0;34m=\u001b[0m \u001b[0meffective_batch_size\u001b[0m \u001b[0;34m/\u001b[0m \u001b[0mloader_batch_size\u001b[0m \u001b[0;31m# Updating weights after 8 forward passes\u001b[0m\u001b[0;34m\u001b[0m\u001b[0;34m\u001b[0m\u001b[0m\n\u001b[1;32m      4\u001b[0m \u001b[0;34m\u001b[0m\u001b[0m\n\u001b[0;32m----> 5\u001b[0;31m \u001b[0mdataloader\u001b[0m \u001b[0;34m=\u001b[0m \u001b[0mDataLoader\u001b[0m\u001b[0;34m(\u001b[0m\u001b[0mdataset\u001b[0m\u001b[0;34m,\u001b[0m \u001b[0mbatch_size\u001b[0m\u001b[0;34m=\u001b[0m\u001b[0mloader_batch_size\u001b[0m\u001b[0;34m)\u001b[0m\u001b[0;34m\u001b[0m\u001b[0;34m\u001b[0m\u001b[0m\n\u001b[0m\u001b[1;32m      6\u001b[0m \u001b[0;34m\u001b[0m\u001b[0m\n\u001b[1;32m      7\u001b[0m \u001b[0moptimizer\u001b[0m\u001b[0;34m.\u001b[0m\u001b[0mzero_grad\u001b[0m\u001b[0;34m(\u001b[0m\u001b[0;34m)\u001b[0m\u001b[0;34m\u001b[0m\u001b[0;34m\u001b[0m\u001b[0m\n",
      "\u001b[0;31mNameError\u001b[0m: name 'DataLoader' is not defined"
     ]
    }
   ],
   "source": [
    "effective_batch_size = 1024\n",
    "loader_batch_size = 32\n",
    "batches_per_update = effective_batch_size / loader_batch_size # Updating weights after 8 forward passes\n",
    "\n",
    "dataloader = DataLoader(dataset, batch_size=loader_batch_size)\n",
    "\n",
    "optimizer.zero_grad()\n",
    "\n",
    "for batch_i, (batch_X, batch_y) in enumerate(dataloader):\n",
    "    l = loss(model(batch_X), batch_y)\n",
    "    l.backward() # Adds gradients\n",
    "  \n",
    "    if (batch_i + 1) % batches_per_update == 0:\n",
    "        optimizer.step()\n",
    "        optimizer.zero_grad()"
   ]
  },
  {
   "cell_type": "code",
   "execution_count": 16,
   "metadata": {},
   "outputs": [
    {
     "name": "stdout",
     "output_type": "stream",
     "text": [
      "Epoch 1 of 1 took 111.352s\n",
      "  (added) training part takes 102.778s to complete\n",
      "  (added) on average one batch of size 128s is processed in 0.012s\n",
      "  training loss (in-iteration): \t4.855658\n",
      "  validation accuracy: \t\t\t11.21 %\n",
      "Evaluating on test data\n",
      "Final results:\n",
      "  test accuracy:\t\t11.29 %\n",
      "We need more magic! Follow instructons below\n",
      "Peak memory usage by Pytorch tensors: 5651.73 Mb\n"
     ]
    }
   ],
   "source": [
    "!python3 train.py --bs=128 --num_epochs=1 --evaluate --sched --ebs=1024"
   ]
  },
  {
   "cell_type": "markdown",
   "metadata": {
    "colab_type": "text",
    "id": "ZqxvZWH9Uxtq"
   },
   "source": [
    "**Task**. Explore the trade-off between computation time and memory usage while maintaining the same effective batch size. By effective batch size we mean the number of objects over which the loss is computed before taking a gradient step.\n",
    "\n",
    "**Requirements**\n",
    "\n",
    "* Compare compute between accumulating gradient and gradient checkpointing with similar memory consumptions\n",
    "* Incorporate gradient accumulation into your script with optional argument"
   ]
  },
  {
   "cell_type": "markdown",
   "metadata": {},
   "source": [
    "It seems that accumulating gradient does not reduce memory consumption when compared with the baseline model or checkpointing, when the batch size is actually as large as used in the baseline model (in my case, `batch size = 128`. I think it makes sense, because in the code the only change is that we make a step only once in `effective_batch_size / loader_batch_size` forward passes. \n",
    "\n",
    "However, when it start to be interesting and important, and that's the idea of accumulating gradients is when we use a lower batch size, than used in the baseline model. See below, when I changed to batch size of 64, but still effective_batch_size = 1024. \n",
    "\n",
    "It becomes important when training huge models when, for example, only one image can fit into batch."
   ]
  },
  {
   "cell_type": "code",
   "execution_count": 1,
   "metadata": {},
   "outputs": [
    {
     "name": "stdout",
     "output_type": "stream",
     "text": [
      "Epoch 1 of 1 took 107.471s\n",
      "  (added) training part takes 99.365s to complete\n",
      "  (added) on average one batch of size 64s is processed in 0.034s\n",
      "  training loss (in-iteration): \t4.868647\n",
      "  validation accuracy: \t\t\t10.98 %\n",
      "Evaluating on test data\n",
      "Final results:\n",
      "  test accuracy:\t\t11.13 %\n",
      "We need more magic! Follow instructons below\n",
      "Peak memory usage by Pytorch tensors: 3064.78 Mb\n"
     ]
    }
   ],
   "source": [
    "!python3 train.py --bs=64 --num_epochs=1 --evaluate --sched --ebs=1024"
   ]
  },
  {
   "cell_type": "markdown",
   "metadata": {
    "colab_type": "text",
    "id": "K3iiJZuhSUR0"
   },
   "source": [
    "## Accuracy vs compute trade-off"
   ]
  },
  {
   "cell_type": "markdown",
   "metadata": {
    "colab_type": "text",
    "id": "fXad1svpSk8f"
   },
   "source": [
    "### Knowledge distillation (6 points)\n",
    "Suppose that we have a large network (*teacher network*) or an ensemble of networks which has a good accuracy. We can like train a much smaller network (*student network*) using the outputs of teacher networks. It turns out that the perfomance could be even better! This approach doesn't help with training speed, but can be quite beneficial when we'd like to reduce the model size for low-memory devices.\n",
    "\n",
    "* https://www.ttic.edu/dl/dark14.pdf\n",
    "* [Distilling the Knowledge in a Neural Network](https://arxiv.org/abs/1503.02531)\n",
    "* https://medium.com/neural-machines/knowledge-distillation-dc241d7c2322\n",
    "\n",
    "Even the completely different ([article](https://arxiv.org/abs/1711.10433)) architecture can be used in a student model, e.g. you can approximate an autoregressive model (WaveNet) by a non-autoregressive one.\n",
    "\n",
    "**Task:** \n",
    "1. Train good enough (teacher) network, achieve >=35% accuracy on validation set.\n",
    "2. Train small (student) network, achieve 20-25% accuracy, draw a plot \"training and testing errors vs train step index\"\n",
    "3. Distill teacher network with student network, achieve at least +1% improvement in accuracy over student network accuracy.\n",
    "\n",
    "_Please, don't cheat with early-early-early stopping while training of the student network. Make sure, it  converged._\n",
    "\n",
    "**Note**. Logits carry more information than the probabilities after softmax\n"
   ]
  },
  {
   "cell_type": "markdown",
   "metadata": {},
   "source": [
    "## Student network"
   ]
  },
  {
   "cell_type": "code",
   "execution_count": 2,
   "metadata": {},
   "outputs": [],
   "source": [
    "import numpy as np\n",
    "import os\n",
    "import matplotlib.pyplot as plt\n",
    "import torch, torch.nn as nn\n",
    "import torch.nn.functional as F\n",
    "import torchvision\n",
    "from torchvision import transforms\n",
    "import skimage\n",
    "from skimage import io\n",
    "from PIL import Image\n",
    "from torch.utils.data import SubsetRandomSampler\n",
    "from torch.utils.data import Dataset, DataLoader\n",
    "import time\n",
    "\n",
    "%matplotlib inline"
   ]
  },
  {
   "cell_type": "markdown",
   "metadata": {},
   "source": [
    "### Task 2\n",
    "Train small (student) network, achieve 20-25% accuracy, draw a plot \"training and testing errors vs train step index\""
   ]
  },
  {
   "cell_type": "code",
   "execution_count": 15,
   "metadata": {},
   "outputs": [],
   "source": [
    "transform_train = transforms.Compose([\n",
    "    transforms.ToTensor(),\n",
    "    transforms.Normalize((0.4914, 0.4822, 0.4465), (0.2023, 0.1994, 0.2010)),\n",
    "])\n",
    "\n",
    "dataset = torchvision.datasets.ImageFolder('tiny-imagenet-200/train', transform=transform_train)\n",
    "train_dataset, val_dataset = torch.utils.data.random_split(dataset, [80000, 20000])"
   ]
  },
  {
   "cell_type": "code",
   "execution_count": 16,
   "metadata": {},
   "outputs": [],
   "source": [
    "batch_size = 64\n",
    "train_loader = torch.utils.data.DataLoader(train_dataset, \n",
    "                            batch_size=batch_size,\n",
    "                            shuffle=True,\n",
    "                            num_workers=4)\n",
    "\n",
    "val_loader = torch.utils.data.DataLoader(val_dataset, \n",
    "                            batch_size=batch_size,\n",
    "                            shuffle=True,\n",
    "                            num_workers=4)"
   ]
  },
  {
   "cell_type": "code",
   "execution_count": 17,
   "metadata": {},
   "outputs": [],
   "source": [
    "device = torch.device(\"cuda:0\")"
   ]
  },
  {
   "cell_type": "markdown",
   "metadata": {},
   "source": [
    "What I like about the student model below is that it is rather simple: there is only one convolutional layer + maxpooling followed by fully-connected layers with some batch-normalization layers and ReLU non-linearities. This allows to iterate very quickly, one epoch takes about 33 seconds. At the same time, accuracy of about 20-22% is reached after 4-5 epochs. Training more does not improve accuracy, so it is possible to claim that we trained a student network.\n",
    "\n",
    "I train it without data augmentation, so as to see the pure result of training the model and distilling the knowledge."
   ]
  },
  {
   "cell_type": "code",
   "execution_count": 35,
   "metadata": {},
   "outputs": [],
   "source": [
    "model = nn.Sequential()\n",
    "\n",
    "model.add_module('conv1', nn.Conv2d(3, 100, kernel_size=(3,3), stride=1))\n",
    "model.add_module('bn1', nn.BatchNorm2d(100))\n",
    "model.add_module('relu1', nn.ReLU())\n",
    "model.add_module('maxpool1', nn.MaxPool2d(3))\n",
    "\n",
    "model.add_module('flatten', nn.Flatten())\n",
    "model.add_module('fc1', nn.Linear(40000, 1000))\n",
    "model.add_module('bn2', nn.BatchNorm1d(1000))\n",
    "model.add_module('relu2', nn.ReLU())\n",
    "model.add_module('dp1', nn.Dropout(0.5))\n",
    "model.add_module('fc2', nn.Linear(1000, 200))\n",
    "\n",
    "model = model.to(device)\n",
    "loss_fn = nn.CrossEntropyLoss()\n",
    "\n",
    "#L2 regularization is added through weight_decay\n",
    "optimizer = torch.optim.Adam(model.parameters(), lr=0.0001, weight_decay=0.00001)\n",
    "scheduler = torch.optim.lr_scheduler.StepLR(optimizer, step_size=15, gamma=0.1)"
   ]
  },
  {
   "cell_type": "code",
   "execution_count": 36,
   "metadata": {},
   "outputs": [],
   "source": [
    "def train_model(model, train_loader, val_loader, optimizer, num_epochs, scheduler = None):\n",
    "    for epoch in range(num_epochs):\n",
    "        \n",
    "        model.train(True)\n",
    "        start_time = time.time()\n",
    "        for x_batch, y_batch in train_loader:\n",
    "            \n",
    "            # I. Training\n",
    "            #1 Train on GPU\n",
    "            x_batch = x_batch.to(device)\n",
    "            y_batch = y_batch.to(device)\n",
    "            \n",
    "            #2 Clear the gradients\n",
    "            optimizer.zero_grad()\n",
    "            \n",
    "            #3 Forward\n",
    "            predictions = model.forward(x_batch)\n",
    "            \n",
    "            #4 Calculating loss\n",
    "            loss = loss_fn(predictions, y_batch)\n",
    "            \n",
    "            #5 Calculating gradients\n",
    "            loss.backward()\n",
    "\n",
    "            #6 Optimizer step\n",
    "            optimizer.step()\n",
    "            \n",
    "            # II. Tracking the training\n",
    "            train_loss.append(loss.cpu().data.numpy())\n",
    "            y_pred = predictions.max(1)[1].data\n",
    "        \n",
    "        if scheduler:\n",
    "            scheduler.step()\n",
    "        # III. Validation\n",
    "        model.train(False) # disable dropout / use averages for batch_norm\n",
    "        for x_batch, y_batch in val_loader:\n",
    "            x_batch = x_batch.to(device)\n",
    "            y_batch = y_batch.to(device)\n",
    "            predictions = model.forward(x_batch)\n",
    "            y_pred = predictions.max(1)[1].data\n",
    "            val_accuracy.append(np.mean( (y_batch.cpu() == y_pred.cpu()).numpy() ))\n",
    "        \n",
    "        validation_accuracy = np.mean(val_accuracy[-len(val_dataset) // batch_size :]) * 100\n",
    "        val_accuracy_per_epoch.append(validation_accuracy)\n",
    "        # IV. Reporting\n",
    "        # Then we print the results for this epoch:\n",
    "        print(\"Epoch {} of {} took {:.3f}s\".format(\n",
    "            epoch + 1, num_epochs, time.time() - start_time))\n",
    "        print(\"  training loss (in-iteration): \\t{:.6f}\".format(\n",
    "            np.mean(train_loss[-len(train_dataset) // batch_size :])))\n",
    "        print(\"  validation accuracy: \\t\\t\\t{:.2f} %\".format(\n",
    "            validation_accuracy))"
   ]
  },
  {
   "cell_type": "code",
   "execution_count": 38,
   "metadata": {
    "scrolled": true
   },
   "outputs": [
    {
     "name": "stdout",
     "output_type": "stream",
     "text": [
      "Epoch 1 of 30 took 33.374s\n",
      "  training loss (in-iteration): \t4.610269\n",
      "  validation accuracy: \t\t\t13.88 %\n",
      "Epoch 2 of 30 took 33.431s\n",
      "  training loss (in-iteration): \t4.000124\n",
      "  validation accuracy: \t\t\t17.53 %\n",
      "Epoch 3 of 30 took 33.472s\n",
      "  training loss (in-iteration): \t3.630038\n",
      "  validation accuracy: \t\t\t19.14 %\n",
      "Epoch 4 of 30 took 33.449s\n",
      "  training loss (in-iteration): \t3.330232\n",
      "  validation accuracy: \t\t\t20.39 %\n",
      "Epoch 5 of 30 took 33.481s\n",
      "  training loss (in-iteration): \t3.051471\n",
      "  validation accuracy: \t\t\t20.23 %\n",
      "Epoch 6 of 30 took 33.259s\n",
      "  training loss (in-iteration): \t2.770838\n",
      "  validation accuracy: \t\t\t20.85 %\n",
      "Epoch 7 of 30 took 33.640s\n",
      "  training loss (in-iteration): \t2.500934\n",
      "  validation accuracy: \t\t\t20.76 %\n",
      "Epoch 8 of 30 took 33.469s\n",
      "  training loss (in-iteration): \t2.229225\n",
      "  validation accuracy: \t\t\t20.27 %\n",
      "Epoch 9 of 30 took 33.775s\n",
      "  training loss (in-iteration): \t1.963818\n",
      "  validation accuracy: \t\t\t19.77 %\n",
      "Epoch 10 of 30 took 33.619s\n",
      "  training loss (in-iteration): \t1.704719\n",
      "  validation accuracy: \t\t\t19.81 %\n",
      "Epoch 11 of 30 took 33.322s\n",
      "  training loss (in-iteration): \t1.482306\n",
      "  validation accuracy: \t\t\t19.26 %\n",
      "Epoch 12 of 30 took 33.450s\n",
      "  training loss (in-iteration): \t1.276931\n",
      "  validation accuracy: \t\t\t19.02 %\n",
      "Epoch 13 of 30 took 33.495s\n",
      "  training loss (in-iteration): \t1.108192\n",
      "  validation accuracy: \t\t\t18.59 %\n",
      "Epoch 14 of 30 took 33.127s\n",
      "  training loss (in-iteration): \t0.958719\n",
      "  validation accuracy: \t\t\t18.95 %\n",
      "Epoch 15 of 30 took 33.559s\n",
      "  training loss (in-iteration): \t0.843337\n",
      "  validation accuracy: \t\t\t18.23 %\n",
      "Epoch 16 of 30 took 33.333s\n",
      "  training loss (in-iteration): \t0.526464\n",
      "  validation accuracy: \t\t\t19.41 %\n",
      "Epoch 17 of 30 took 33.315s\n",
      "  training loss (in-iteration): \t0.451838\n",
      "  validation accuracy: \t\t\t19.32 %\n",
      "Epoch 18 of 30 took 33.258s\n",
      "  training loss (in-iteration): \t0.409859\n",
      "  validation accuracy: \t\t\t19.10 %\n",
      "Epoch 19 of 30 took 33.179s\n",
      "  training loss (in-iteration): \t0.383893\n",
      "  validation accuracy: \t\t\t19.11 %\n",
      "Epoch 20 of 30 took 33.196s\n",
      "  training loss (in-iteration): \t0.358161\n",
      "  validation accuracy: \t\t\t18.81 %\n",
      "Epoch 21 of 30 took 33.199s\n",
      "  training loss (in-iteration): \t0.337331\n",
      "  validation accuracy: \t\t\t19.10 %\n",
      "Epoch 22 of 30 took 33.427s\n",
      "  training loss (in-iteration): \t0.321815\n",
      "  validation accuracy: \t\t\t19.23 %\n",
      "Epoch 23 of 30 took 33.681s\n",
      "  training loss (in-iteration): \t0.302339\n",
      "  validation accuracy: \t\t\t18.88 %\n",
      "Epoch 24 of 30 took 33.271s\n",
      "  training loss (in-iteration): \t0.287655\n",
      "  validation accuracy: \t\t\t18.71 %\n",
      "Epoch 25 of 30 took 33.288s\n",
      "  training loss (in-iteration): \t0.273644\n",
      "  validation accuracy: \t\t\t18.84 %\n",
      "Epoch 26 of 30 took 33.374s\n",
      "  training loss (in-iteration): \t0.259133\n",
      "  validation accuracy: \t\t\t18.72 %\n",
      "Epoch 27 of 30 took 33.237s\n",
      "  training loss (in-iteration): \t0.250216\n",
      "  validation accuracy: \t\t\t18.82 %\n",
      "Epoch 28 of 30 took 33.635s\n",
      "  training loss (in-iteration): \t0.234367\n",
      "  validation accuracy: \t\t\t18.60 %\n",
      "Epoch 29 of 30 took 33.256s\n",
      "  training loss (in-iteration): \t0.224120\n",
      "  validation accuracy: \t\t\t18.40 %\n",
      "Epoch 30 of 30 took 33.500s\n",
      "  training loss (in-iteration): \t0.215863\n",
      "  validation accuracy: \t\t\t18.58 %\n"
     ]
    }
   ],
   "source": [
    "train_loss = []\n",
    "val_accuracy = []\n",
    "val_accuracy_per_epoch = []\n",
    "train_model(model, train_loader, val_loader, optimizer, 30, scheduler = scheduler)"
   ]
  },
  {
   "cell_type": "markdown",
   "metadata": {},
   "source": [
    "Trained for 30 epochs just to show that accuracy of this student model does not exceed 21% on validation data."
   ]
  },
  {
   "cell_type": "code",
   "execution_count": 44,
   "metadata": {},
   "outputs": [],
   "source": [
    "x = [(i+1)*len(train_dataset)/batch_size for i in range(30)]"
   ]
  },
  {
   "cell_type": "code",
   "execution_count": 46,
   "metadata": {},
   "outputs": [
    {
     "data": {
      "image/png": "[encoded data removed]",
      "text/plain": [
       "<Figure size 432x288 with 2 Axes>"
      ]
     },
     "metadata": {
      "needs_background": "light"
     },
     "output_type": "display_data"
    }
   ],
   "source": [
    "fig, ax1 = plt.subplots()\n",
    "\n",
    "color = 'tab:red'\n",
    "ax1.set_xlabel('training step')\n",
    "ax1.set_ylabel('cross-entropy loss', color=color)\n",
    "ax1.plot(train_loss, color=color)\n",
    "ax1.tick_params(axis='y', labelcolor=color)\n",
    "\n",
    "ax2 = ax1.twinx()  # instantiate a second axes that shares the same x-axis\n",
    "\n",
    "color = 'tab:blue'\n",
    "ax2.set_ylabel('validation accuracy per epoch', color=color)  # we already handled the x-label with ax1\n",
    "ax2.plot(x,val_accuracy_per_epoch, color=color)\n",
    "ax2.tick_params(axis='y', labelcolor=color)\n",
    "\n",
    "fig.tight_layout()\n",
    "plt.show()"
   ]
  },
  {
   "cell_type": "markdown",
   "metadata": {},
   "source": [
    "### Task 3\n",
    "Distill teacher network with student network, achieve at least +1% improvement in accuracy over student network accuracy.\n",
    "\n",
    "First, I set up the model as before, but I will train it using the predictions coming from the \"cumbersome\" model trained and saved in `homework_part2.ipynb`."
   ]
  },
  {
   "cell_type": "code",
   "execution_count": 24,
   "metadata": {},
   "outputs": [],
   "source": [
    "teacher = torch.load('cumbersome_model.pth')"
   ]
  },
  {
   "cell_type": "markdown",
   "metadata": {},
   "source": [
    "#### Define new loss function"
   ]
  },
  {
   "cell_type": "code",
   "execution_count": 25,
   "metadata": {},
   "outputs": [],
   "source": [
    "def cross_entropy_with_soft_targets(pred, soft_targets):\n",
    "    logsoftmax = nn.LogSoftmax(dim=1)\n",
    "    return torch.mean(torch.sum(- soft_targets * logsoftmax(pred), 1))"
   ]
  },
  {
   "cell_type": "code",
   "execution_count": 26,
   "metadata": {},
   "outputs": [],
   "source": [
    "class CrossEntropyLossTemperature_withSoftTargets(torch.nn.Module):\n",
    "    def __init__(self, temperature, reduction='mean'):\n",
    "        super(CrossEntropyLossTemperature_withSoftTargets, self).__init__()\n",
    "        self.T = temperature\n",
    "        self.reduction = reduction\n",
    "\n",
    "    def forward(self, input, soft_targets, hard_targets):\n",
    "        \"\"\"\n",
    "        In the forward function we accept a Tensor of input data and we must return\n",
    "        a Tensor of output data. We can use Modules defined in the constructor as\n",
    "        well as arbitrary operators on Tensors.\n",
    "        \"\"\"\n",
    "        z = input / self.T\n",
    "        loss_1 = self.T**2*cross_entropy_with_soft_targets(z, F.softmax(soft_targets, 1, _stacklevel=5))\n",
    "        loss_2 = F.cross_entropy(input, hard_targets, weight=None,\n",
    "                               ignore_index=-100, reduction=self.reduction)\n",
    "        \n",
    "        return loss_1+loss_2"
   ]
  },
  {
   "cell_type": "code",
   "execution_count": 27,
   "metadata": {},
   "outputs": [],
   "source": [
    "student = nn.Sequential()\n",
    "\n",
    "student.add_module('conv1', nn.Conv2d(3, 100, kernel_size=(3,3), stride=1))\n",
    "student.add_module('bn1', nn.BatchNorm2d(100))\n",
    "student.add_module('relu1', nn.ReLU())\n",
    "student.add_module('maxpool1', nn.MaxPool2d(3))\n",
    "\n",
    "student.add_module('flatten', nn.Flatten())\n",
    "student.add_module('fc1', nn.Linear(40000, 1000))\n",
    "student.add_module('bn2', nn.BatchNorm1d(1000))\n",
    "student.add_module('relu2', nn.ReLU())\n",
    "student.add_module('dp1', nn.Dropout(0.5))\n",
    "student.add_module('fc2', nn.Linear(1000, 200))\n",
    "\n",
    "student = student.to(device)\n",
    "loss_fn = CrossEntropyLossTemperature_withSoftTargets(1)\n",
    "\n",
    "#L2 regularization is added through weight_decay\n",
    "optimizer = torch.optim.Adam(student.parameters(), lr=0.0001, weight_decay=0.00001)\n",
    "scheduler = torch.optim.lr_scheduler.StepLR(optimizer, step_size=15, gamma=0.1)"
   ]
  },
  {
   "cell_type": "code",
   "execution_count": 28,
   "metadata": {},
   "outputs": [],
   "source": [
    "def distill_knowledge(teacher,val_accuracy\n",
    "                      student,\n",
    "                      train_loader,\n",
    "                      val_loader,\n",
    "                      optimizer,\n",
    "                      num_epochs,\n",
    "                      scheduler = None):\n",
    "\n",
    "    teacher.train(False)   \n",
    "    for epoch in range(num_epochs):\n",
    "        student.train(True) \n",
    "        start_time = time.time()\n",
    "        for x_batch, y_batch in train_loader:\n",
    "            \n",
    "            # I. Training\n",
    "            #1 Train on GPU\n",
    "            x_batch = x_batch.to(device)\n",
    "            y_batch = y_batch.to(device)\n",
    "            \n",
    "            #2 Clear the gradients\n",
    "            optimizer.zero_grad()\n",
    "            \n",
    "            #3 Forward\n",
    "            predictions_teacher = teacher.forward(x_batch)\n",
    "            predictions_student = student.forward(x_batch)\n",
    "            \n",
    "            #4 Calculating loss\n",
    "            loss = loss_fn(predictions_student, predictions_teacher, y_batch)\n",
    "            \n",
    "            #5 Calculating gradients\n",
    "            loss.backward()\n",
    "\n",
    "            #6 Optimizer step\n",
    "            optimizer.step()\n",
    "            \n",
    "            # II. Tracking the training\n",
    "            train_loss.append(loss.cpu().data.numpy())  \n",
    "        \n",
    "        if scheduler:\n",
    "            scheduler.step()\n",
    "        # III. Validation\n",
    "        student.train(False) # disable dropout / use averages for batch_norm\n",
    "        for x_batch, y_batch in val_loader:\n",
    "            x_batch = x_batch.to(device)\n",
    "            y_batch = y_batch.to(device)\n",
    "            predictions_student = student.forward(x_batch)\n",
    "            y_pred = predictions_student.max(1)[1].data\n",
    "            val_accuracy.append(np.mean( (y_batch.cpu() == y_pred.cpu()).numpy() ))\n",
    "        \n",
    "        validation_accuracy = np.mean(val_accuracy[-len(val_dataset) // batch_size :]) * 100\n",
    "        # IV. Reporting\n",
    "        # Then we print the results for this epoch:\n",
    "        print(\"Epoch {} of {} took {:.3f}s\".format(\n",
    "            epoch + 1, num_epochs, time.time() - start_time))\n",
    "        print(\"  training loss (in-iteration): \\t{:.6f}\".format(\n",
    "            np.mean(train_loss[-len(train_dataset) // batch_size :])))\n",
    "        print(\"  validation accuracy: \\t\\t\\t{:.2f} %\".format(\n",
    "            validation_accuracy))\n",
    "        \n",
    "        if validation_accuracy > 24:\n",
    "            print(f'Fitted the model to exceed 24% on the validation set.Exiting loop on epoch {epoch + 1}.')\n",
    "            break"
   ]
  },
  {
   "cell_type": "code",
   "execution_count": 29,
   "metadata": {},
   "outputs": [
    {
     "name": "stdout",
     "output_type": "stream",
     "text": [
      "Epoch 1 of 100 took 123.992s\n",
      "  training loss (in-iteration): \t8.938258\n",
      "  validation accuracy: \t\t\t16.54 %\n",
      "Epoch 2 of 100 took 124.184s\n",
      "  training loss (in-iteration): \t7.694273\n",
      "  validation accuracy: \t\t\t20.11 %\n",
      "Epoch 3 of 100 took 124.379s\n",
      "  training loss (in-iteration): \t7.056781\n",
      "  validation accuracy: \t\t\t21.85 %\n",
      "Epoch 4 of 100 took 124.174s\n",
      "  training loss (in-iteration): \t6.610803\n",
      "  validation accuracy: \t\t\t23.08 %\n",
      "Epoch 5 of 100 took 124.029s\n",
      "  training loss (in-iteration): \t6.226841\n",
      "  validation accuracy: \t\t\t23.47 %\n",
      "Epoch 6 of 100 took 124.229s\n",
      "  training loss (in-iteration): \t5.899975\n",
      "  validation accuracy: \t\t\t23.86 %\n",
      "Epoch 7 of 100 took 124.178s\n",
      "  training loss (in-iteration): \t5.591008\n",
      "  validation accuracy: \t\t\t23.30 %\n",
      "Epoch 8 of 100 took 124.259s\n",
      "  training loss (in-iteration): \t5.309193\n",
      "  validation accuracy: \t\t\t23.96 %\n",
      "Epoch 9 of 100 took 123.999s\n",
      "  training loss (in-iteration): \t5.057131\n",
      "  validation accuracy: \t\t\t23.83 %\n",
      "Epoch 10 of 100 took 123.924s\n",
      "  training loss (in-iteration): \t4.843023\n",
      "  validation accuracy: \t\t\t23.66 %\n",
      "Epoch 11 of 100 took 124.313s\n",
      "  training loss (in-iteration): \t4.651734\n",
      "  validation accuracy: \t\t\t23.34 %\n",
      "Epoch 12 of 100 took 124.098s\n",
      "  training loss (in-iteration): \t4.491565\n",
      "  validation accuracy: \t\t\t23.30 %\n",
      "Epoch 13 of 100 took 124.028s\n",
      "  training loss (in-iteration): \t4.351459\n",
      "  validation accuracy: \t\t\t23.68 %\n",
      "Epoch 14 of 100 took 124.000s\n",
      "  training loss (in-iteration): \t4.231526\n",
      "  validation accuracy: \t\t\t23.56 %\n",
      "Epoch 15 of 100 took 124.084s\n",
      "  training loss (in-iteration): \t4.138215\n",
      "  validation accuracy: \t\t\t23.34 %\n",
      "Epoch 16 of 100 took 124.380s\n",
      "  training loss (in-iteration): \t3.806899\n",
      "  validation accuracy: \t\t\t24.08 %\n",
      "Fitted the model to exceed 24% on the validation set.Exiting loop on epoch 15.\n"
     ]
    }
   ],
   "source": [
    "train_loss = []\n",
    "val_accuracy = []\n",
    "distill_knowledge(teacher, student, train_loader, val_loader, optimizer, 100, scheduler = scheduler)"
   ]
  },
  {
   "cell_type": "markdown",
   "metadata": {},
   "source": [
    "Actually, the results are pretty amazing. To be sure, let's check on the test dataset:"
   ]
  },
  {
   "cell_type": "code",
   "execution_count": 30,
   "metadata": {},
   "outputs": [],
   "source": [
    "class TestDataset(Dataset):\n",
    "    def __init__(self, root_folder, labels_frame, class_to_idx, transform=None):\n",
    "\n",
    "        self.transform = transform\n",
    "        self.root_folder = root_folder\n",
    "        self.labels_frame = labels_frame\n",
    "        self.class_to_idx = class_to_idx\n",
    "\n",
    "    def __len__(self):\n",
    "        return len(self.labels_frame) - 1\n",
    "    \n",
    "    def __getitem__(self, idx):\n",
    "        if torch.is_tensor(idx):\n",
    "            idx = idx.tolist()\n",
    "        img_name = os.path.join(self.root_folder,\n",
    "                                self.labels_frame.loc[idx, 'imname'])\n",
    "        image = io.imread(img_name)\n",
    "        \n",
    "        # Treating greyscale images\n",
    "        if len(image.shape) < 3:\n",
    "            image = skimage.color.grey2rgb(image, alpha=None)\n",
    "\n",
    "        if self.transform:\n",
    "            image = self.transform(image)\n",
    "        category = self.class_to_idx[self.labels_frame.loc[idx, 'id']]\n",
    "        return image, category"
   ]
  },
  {
   "cell_type": "code",
   "execution_count": 31,
   "metadata": {},
   "outputs": [
    {
     "name": "stdout",
     "output_type": "stream",
     "text": [
      "Final results:\n",
      "  test accuracy:\t\t23.98 %\n"
     ]
    }
   ],
   "source": [
    "labels = pd.read_csv('tiny-imagenet-200/val/val_annotations.txt', sep='\\t', header=None)\n",
    "labels.columns = ['imname', 'id', 'bb1', 'bb2', 'bb3', 'bb4']\n",
    "class_to_idx = dataset.class_to_idx\n",
    "test_dataset = TestDataset(root_folder='tiny-imagenet-200/val/images/',\n",
    "                           labels_frame=labels,\n",
    "                           class_to_idx=class_to_idx,\n",
    "                           transform = transforms.Compose([\n",
    "                               transforms.ToTensor(),\n",
    "                               transforms.Normalize((0.4914, 0.4822, 0.4465), (0.2023, 0.1994, 0.2010))\n",
    "                           ]))\n",
    "test_loader = torch.utils.data.DataLoader(test_dataset, \n",
    "                            batch_size=10,\n",
    "                            shuffle=True,\n",
    "                            num_workers=1)\n",
    "\n",
    "student.train(False)\n",
    "correct_samples = 0\n",
    "total_samples = 0\n",
    "for x_batch, y_batch in test_loader:\n",
    "    x_batch = x_batch.to(device)\n",
    "    y_batch = y_batch.to(device)\n",
    "    predictions = student.forward(x_batch)\n",
    "    y_pred = predictions.max(1)[1].data\n",
    "    correct_samples += torch.sum(y_pred == y_batch)\n",
    "    total_samples += y_batch.shape[0]\n",
    "test_accuracy = float(correct_samples) / total_samples\n",
    "print(\"Final results:\")\n",
    "print(\"  test accuracy:\\t\\t{:.2f} %\".format(\n",
    "    test_accuracy * 100))"
   ]
  },
  {
   "cell_type": "markdown",
   "metadata": {},
   "source": [
    "### TL;DR. Moar techniques on accuracy vs time trade-off (just for your information)"
   ]
  },
  {
   "cell_type": "markdown",
   "metadata": {
    "colab_type": "text",
    "id": "0WOWhqMJSboR"
   },
   "source": [
    "### Tensor type size\n",
    "\n",
    "One of the hyperparameter affecting memory consumption is the precision (e.g. floating point number). The most popular choice is 32 bit however with several hacks* 16 bit arithmetics can save you approximately half of the memory without considerable loss of perfomance. This is called mixed precision training.\n",
    "\n",
    "*https://arxiv.org/pdf/1710.03740.pdf"
   ]
  },
  {
   "cell_type": "markdown",
   "metadata": {
    "colab_type": "text",
    "id": "-xAEF9aJc-43"
   },
   "source": [
    "### Quantization\n",
    "\n",
    "We can actually move further and use even lower precision like 8-bit integers:\n",
    "\n",
    "* https://heartbeat.fritz.ai/8-bit-quantization-and-tensorflow-lite-speeding-up-mobile-inference-with-low-precision-a882dfcafbbd\n",
    "* https://nervanasystems.github.io/distiller/quantization/\n",
    "* https://arxiv.org/abs/1712.05877"
   ]
  },
  {
   "cell_type": "markdown",
   "metadata": {},
   "source": [
    "### Pruning\n",
    "\n",
    "The idea of pruning is to remove unnecessary (in terms of loss) weights. It can be measured in different ways: for example, by the norm of the weights (similar to L1 feature selection), by the magnitude of the activation or via Taylor expansion*.\n",
    "\n",
    "One iteration of pruning consists of two steps:\n",
    "\n",
    "1) Rank weights with some importance measure and remove the least important\n",
    "\n",
    "2) Fine-tune the model\n",
    "\n",
    "This approach is a bit computationally heavy but can lead to drastic (up to 150x) decrease of memory to store the weights. Moreover if you make use of structure in layers you can decrease also compute. For example, the whole convolutional filters can be removed.\n",
    "\n",
    "*https://arxiv.org/pdf/1611.06440.pdf"
   ]
  }
 ],
 "metadata": {
  "accelerator": "GPU",
  "colab": {
   "collapsed_sections": [],
   "name": "homework_optimization.ipynb",
   "provenance": [],
   "version": "0.3.2"
  },
  "kernelspec": {
   "display_name": "Python 3",
   "language": "python",
   "name": "python3"
  },
  "language_info": {
   "codemirror_mode": {
    "name": "ipython",
    "version": 3
   },
   "file_extension": ".py",
   "mimetype": "text/x-python",
   "name": "python",
   "nbconvert_exporter": "python",
   "pygments_lexer": "ipython3",
   "version": "3.7.6"
  }
 },
 "nbformat": 4,
 "nbformat_minor": 2
}
