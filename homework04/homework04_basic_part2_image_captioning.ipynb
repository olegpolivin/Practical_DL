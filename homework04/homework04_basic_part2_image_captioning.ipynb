{
 "cells": [
  {
   "cell_type": "markdown",
   "metadata": {},
   "source": [
    "<h1 align=\"center\"> Image Captioning</h1>\n",
    "\n",
    "In this notebook you will teach a network to do image captioning.\n",
    "![img](https://i.imgur.com/obITaMl.png)\n",
    "\n",
    "\n",
    "\n",
    "#### Alright, here's our plan:\n",
    "1. Take a pre-trained inception v3 to vectorize images\n",
    "2. Stack an LSTM on top of it\n",
    "3. Train the thing on [MSCOCO](http://cocodataset.org/#download)\n",
    "\n",
    "Cost of this notebook is **15 points**."
   ]
  },
  {
   "cell_type": "code",
   "execution_count": 1,
   "metadata": {},
   "outputs": [],
   "source": [
    "# Please either download data from https://yadi.sk/d/b4nAwIE73TVcp5 or generate it manually with preprocess_data.ipynb"
   ]
  },
  {
   "cell_type": "markdown",
   "metadata": {},
   "source": [
    "### Data preprocessing"
   ]
  },
  {
   "cell_type": "code",
   "execution_count": 2,
   "metadata": {},
   "outputs": [
    {
     "name": "stdout",
     "output_type": "stream",
     "text": [
      "CPU times: user 174 ms, sys: 475 ms, total: 649 ms\n",
      "Wall time: 648 ms\n"
     ]
    }
   ],
   "source": [
    "%%time\n",
    "# Read Dataset\n",
    "import numpy as np\n",
    "import json\n",
    "\n",
    "img_codes = np.load(\"data2/image_codes.npy\")\n",
    "captions = json.load(open('data2/captions_tokenized.json'))"
   ]
  },
  {
   "cell_type": "markdown",
   "metadata": {},
   "source": [
    "### Data structure\n",
    "\n",
    "To save your time, we've already vectorized all MSCOCO17 images with a pre-trained inception_v3 network from [torchvision](https://github.com/pytorch/vision/blob/master/torchvision/models/inception.py).\n",
    "\n",
    "The whole process takes anywhere between a day on CPU and 10min on 3x tesla m40. If you want to play with that yourself, [you're welcome](https://gist.github.com/justheuristic/11fd01f9c12c0bf960499580d104130b)."
   ]
  },
  {
   "cell_type": "code",
   "execution_count": 3,
   "metadata": {},
   "outputs": [
    {
     "name": "stdout",
     "output_type": "stream",
     "text": [
      "Each image code is a 2048-unit vector [ shape: (118287, 2048) ]\n",
      "[0.3659946  0.2016555  0.9245725  0.57063824 0.547268   0.8275868\n",
      " 0.3687277  0.12085301 0.0561931  0.49758485]\n",
      "\n",
      "For each image there are 5 reference captions, e.g.:\n",
      "\n",
      "people shopping in an open market for vegetables .\n",
      "an open market full of people and piles of vegetables .\n",
      "people are shopping at an open air produce market .\n",
      "large piles of carrots and potatoes at a crowded outdoor market .\n",
      "people shop for vegetables like carrots and potatoes at an open air market .\n"
     ]
    }
   ],
   "source": [
    "print(\"Each image code is a 2048-unit vector [ shape: %s ]\" % str(img_codes.shape))\n",
    "print(img_codes[0,:10], end='\\n\\n')\n",
    "print(\"For each image there are 5 reference captions, e.g.:\\n\")\n",
    "print('\\n'.join(captions[0]))"
   ]
  },
  {
   "cell_type": "code",
   "execution_count": 4,
   "metadata": {},
   "outputs": [
    {
     "name": "stdout",
     "output_type": "stream",
     "text": [
      "Each image code is a 2048-unit vector [ shape: (118287, 2048) ]\n",
      "[0.3659946  0.2016555  0.9245725  0.57063824 0.547268   0.8275868\n",
      " 0.3687277  0.12085301 0.0561931  0.49758485]\n",
      "\n",
      "For each image there are 5 reference captions, e.g.:\n",
      "\n",
      "people shopping in an open market for vegetables .\n",
      "an open market full of people and piles of vegetables .\n",
      "people are shopping at an open air produce market .\n",
      "large piles of carrots and potatoes at a crowded outdoor market .\n",
      "people shop for vegetables like carrots and potatoes at an open air market .\n"
     ]
    }
   ],
   "source": [
    "print(\"Each image code is a 2048-unit vector [ shape: %s ]\" % str(img_codes.shape))\n",
    "print(img_codes[0,:10], end='\\n\\n')\n",
    "print(\"For each image there are 5 reference captions, e.g.:\\n\")\n",
    "print('\\n'.join(captions[0]))"
   ]
  },
  {
   "cell_type": "markdown",
   "metadata": {},
   "source": [
    "As you can see, all captions are already tokenized and lowercased. We now want to split them and add some special tokens for start/end of caption."
   ]
  },
  {
   "cell_type": "code",
   "execution_count": 5,
   "metadata": {},
   "outputs": [],
   "source": [
    "#split descriptions into tokens\n",
    "for img_i in range(len(captions)):\n",
    "    for caption_i in range(len(captions[img_i])):\n",
    "        sentence = captions[img_i][caption_i] \n",
    "        captions[img_i][caption_i] = [\"#START#\"]+sentence.split(' ')+[\"#END#\"]\n"
   ]
  },
  {
   "cell_type": "markdown",
   "metadata": {},
   "source": [
    "You don't want your network to predict a million-size vector of probabilities at each step, so we're gotta make some cuts. \n",
    "\n",
    "We want you to __count the occurences of each word__ so that we can decide which words to keep in our vocabulary."
   ]
  },
  {
   "cell_type": "code",
   "execution_count": 6,
   "metadata": {},
   "outputs": [],
   "source": [
    "# Build a Vocabulary\n",
    "from collections import Counter\n",
    "word_counts = Counter()\n",
    "\n",
    "# Compute word frequencies for each word in captions. See code above for data structure\n",
    "for caption in captions:\n",
    "    for description in caption:\n",
    "        word_counts.update(description)"
   ]
  },
  {
   "cell_type": "code",
   "execution_count": 7,
   "metadata": {},
   "outputs": [],
   "source": [
    "vocab  = ['#UNK#', '#START#', '#END#', '#PAD#']\n",
    "vocab += [k for k, v in word_counts.items() if v >= 5 if k not in vocab]\n",
    "n_tokens = len(vocab)\n",
    "\n",
    "assert 10000 <= n_tokens <= 10500\n",
    "\n",
    "word_to_index = {w: i for i, w in enumerate(vocab)}"
   ]
  },
  {
   "cell_type": "code",
   "execution_count": 8,
   "metadata": {},
   "outputs": [],
   "source": [
    "eos_ix = word_to_index['#END#']\n",
    "unk_ix = word_to_index['#UNK#']\n",
    "pad_ix = word_to_index['#PAD#']\n",
    "\n",
    "def as_matrix(sequences, max_len=None):\n",
    "    \"\"\" Convert a list of tokens into a matrix with padding \"\"\"\n",
    "    max_len = max_len or max(map(len,sequences))\n",
    "    \n",
    "    matrix = np.zeros((len(sequences), max_len), dtype='int32') + pad_ix\n",
    "    for i,seq in enumerate(sequences):\n",
    "        row_ix = [word_to_index.get(word, unk_ix) for word in seq[:max_len]]\n",
    "        matrix[i, :len(row_ix)] = row_ix\n",
    "    \n",
    "    return matrix"
   ]
  },
  {
   "cell_type": "code",
   "execution_count": 9,
   "metadata": {},
   "outputs": [
    {
     "data": {
      "text/plain": [
       "array([[   1,   24,  262,  140,    6,  159,   14,   24,  858,  155,   12,\n",
       "           2,    3,    3,    3,    3,    3,    3,    3],\n",
       "       [   1,   24,  262,   53,   18,   24,  858,  155,    2,    3,    3,\n",
       "           3,    3,    3,    3,    3,    3,    3,    3],\n",
       "       [   1,   24,  262,   41,   18,  903,   35,  620,  155,    2,    3,\n",
       "           3,    3,    3,    3,    3,    3,    3,    3],\n",
       "       [   1,   45,  115,  262,   41,   53,   18,  620, 1525,   77,   12,\n",
       "           2,    3,    3,    3,    3,    3,    3,    3],\n",
       "       [   1,   24,  262,   53,   18,   24,  858,  123,   58,   45,  276,\n",
       "        3641,   24, 3642,   35,   45, 1128,   12,    2]], dtype=int32)"
      ]
     },
     "execution_count": 9,
     "metadata": {},
     "output_type": "execute_result"
    }
   ],
   "source": [
    "#try it out on several descriptions of a random image\n",
    "as_matrix(captions[1337])"
   ]
  },
  {
   "cell_type": "markdown",
   "metadata": {},
   "source": [
    "### Building our neural network\n",
    "\n",
    "As we mentioned earlier, we shall build an rnn \"language-model\" conditioned on vectors from the convolutional part. \n",
    "\n",
    "![img](https://raw.githubusercontent.com/yunjey/pytorch-tutorial/master/tutorials/03-advanced/image_captioning/png/model.png)\n",
    "_image: http://bit.ly/2FKnqHm_\n",
    "\n",
    "\n",
    "We'll unbox the inception net later to save memory, for now just pretend that it's available.\n"
   ]
  },
  {
   "cell_type": "code",
   "execution_count": 10,
   "metadata": {},
   "outputs": [],
   "source": [
    "import torch, torch.nn as nn\n",
    "import torch.nn.functional as F"
   ]
  },
  {
   "cell_type": "code",
   "execution_count": 29,
   "metadata": {},
   "outputs": [],
   "source": [
    "class CaptionNet(nn.Module):\n",
    "    def __init__(self, n_tokens=n_tokens, emb_size=128, lstm_units=256, cnn_feature_size=2048):\n",
    "        \"\"\" A recurrent 'head' network for image captioning. See scheme above. \"\"\"\n",
    "        super(self.__class__, self).__init__()\n",
    "        \n",
    "        # a layer that converts conv features to \n",
    "        self.cnn_to_h0 = nn.Linear(cnn_feature_size, lstm_units)\n",
    "        self.cnn_to_c0 = nn.Linear(cnn_feature_size, lstm_units)\n",
    "        \n",
    "        # recurrent part, please create the layers as per scheme above.\n",
    "\n",
    "        # create embedding for input words. Use the parameters (e.g. emb_size).\n",
    "        self.emb = nn.Embedding(n_tokens, emb_size, padding_idx = pad_ix)\n",
    "            \n",
    "        # lstm: create a recurrent core of your network. Use either LSTMCell or just LSTM. \n",
    "        # In the latter case (nn.LSTM), make sure batch_first=True\n",
    "        self.lstm2 = nn.LSTMCell(emb_size, lstm_units)\n",
    "#         self.lstm = nn.LSTM(emb_size, lstm_units, batch_first = True)\n",
    "            \n",
    "        # create logits: linear layer that takes lstm hidden state as input and computes one number per token\n",
    "        self.logits = nn.Linear(lstm_units, n_tokens)\n",
    "        \n",
    "    def forward(self, image_vectors, captions_ix):\n",
    "        \"\"\" \n",
    "        Apply the network in training mode. \n",
    "        :param image_vectors: torch tensor containing inception vectors. shape: [batch, cnn_feature_size]\n",
    "        :param captions_ix: torch tensor containing captions as matrix. shape: [batch, word_i]. \n",
    "            padded with pad_ix\n",
    "        :returns: logits for next token at each tick, shape: [batch, word_i, n_tokens]\n",
    "        \"\"\"\n",
    "        initial_cell = self.cnn_to_c0(image_vectors)\n",
    "        initial_hid = self.cnn_to_h0(image_vectors)\n",
    "        # compute embeddings for captions_ix\n",
    "        captions_emb = self.emb(captions_ix)\n",
    "        \n",
    "        # apply recurrent layer to captions_emb. \n",
    "        # 1. initialize lstm state with initial_* from above\n",
    "        # 2. feed it with captions. Mind the dimension order in docstring\n",
    "        # 3. compute logits for next token probabilities\n",
    "        # Note: if you used nn.LSTM, you can just give it (initial_cell[None], initial_hid[None]) as second arg\n",
    "\n",
    "        # lstm_out should be lstm hidden state sequence of shape [batch, caption_length, lstm_units]\n",
    "        hx = initial_cell\n",
    "        cx = initial_hid\n",
    "        bs, cap_length, _ = captions_emb.shape\n",
    "\n",
    "#         lstm_out2 = torch.zeros((bs,cap_length, 256))\n",
    "        lstm_out2 = []\n",
    "#         lstm_out, (hn, cn) = self.lstm(captions_emb, (initial_cell[None], initial_hid[None]))\n",
    "        for i in range(cap_length):\n",
    "            hx, cx = self.lstm2(captions_emb[:,i,:], (hx, cx))\n",
    "#             lstm_out2[:,i,:] = hx\n",
    "            lstm_out2.append(hx)\n",
    "        \n",
    "        lstm_out2 = torch.stack(lstm_out2, dim=1)\n",
    "        # compute logits from lstm_out\n",
    "        logits = self.logits(lstm_out2)\n",
    "        \n",
    "        return logits        "
   ]
  },
  {
   "cell_type": "code",
   "execution_count": 30,
   "metadata": {},
   "outputs": [],
   "source": [
    "network = CaptionNet(n_tokens)"
   ]
  },
  {
   "cell_type": "code",
   "execution_count": 31,
   "metadata": {
    "scrolled": true
   },
   "outputs": [
    {
     "name": "stdout",
     "output_type": "stream",
     "text": [
      "shape: torch.Size([5, 16, 10403])\n"
     ]
    }
   ],
   "source": [
    "dummy_img_vec = torch.randn(len(captions[0]), 2048)\n",
    "dummy_capt_ix = torch.tensor(as_matrix(captions[0]), dtype=torch.int64)\n",
    "\n",
    "dummy_logits = network.forward(dummy_img_vec, dummy_capt_ix)\n",
    "\n",
    "print('shape:', dummy_logits.shape)\n",
    "assert dummy_logits.shape == (dummy_capt_ix.shape[0], dummy_capt_ix.shape[1], n_tokens)"
   ]
  },
  {
   "cell_type": "code",
   "execution_count": 32,
   "metadata": {},
   "outputs": [],
   "source": [
    "def compute_loss(network, image_vectors, captions_ix):\n",
    "    \"\"\"\n",
    "    :param image_vectors: torch tensor containing inception vectors. shape: [batch, cnn_feature_size]\n",
    "    :param captions_ix: torch tensor containing captions as matrix. shape: [batch, word_i]. \n",
    "        padded with pad_ix\n",
    "    :returns: scalar crossentropy loss (neg llh) loss for next captions_ix given previous ones\n",
    "    \"\"\"\n",
    "    \n",
    "    # captions for input - all except last cuz we don't know next token for last one.\n",
    "    captions_ix_inp = captions_ix[:, :-1].contiguous()\n",
    "    captions_ix_next = captions_ix[:, 1:].contiguous()\n",
    "    \n",
    "    # apply the network, get predictions for captions_ix_next\n",
    "    logits_for_next = network.forward(image_vectors, captions_ix_inp)\n",
    "    bs, caption_length = captions_ix_inp.shape\n",
    "    # compute the loss function between logits_for_next and captions_ix_next\n",
    "    # Use the mask, Luke: make sure that predicting next tokens after EOS do not contribute to loss\n",
    "    # you can do that either by multiplying elementwise loss by (captions_ix_next != pad_ix)\n",
    "    # or by using ignore_index in some losses.\n",
    "#     loss_fn = torch.nn.CrossEntropyLoss(ignore_index=pad_ix)\n",
    "#     loss = loss_fn(logits_for_next.view(bs, -1, caption_length), captions_ix_next).unsqueeze(0)\n",
    "    loss = F.cross_entropy(logits_for_next.view(-1, n_tokens), captions_ix_next.view(-1), ignore_index=pad_ix)\n",
    "\n",
    "    return loss[None]"
   ]
  },
  {
   "cell_type": "code",
   "execution_count": 33,
   "metadata": {},
   "outputs": [],
   "source": [
    "dummy_loss = compute_loss(network, dummy_img_vec, dummy_capt_ix)\n",
    "\n",
    "assert dummy_loss.shape == torch.Size([1]), 'loss must be scalar'\n",
    "assert dummy_loss.data.numpy() > 0, \"did you forget the 'negative' part of negative log-likelihood\"\n",
    "\n",
    "dummy_loss.backward()\n",
    "\n",
    "assert all(param.grad is not None for param in network.parameters()), \\\n",
    "        'loss should depend differentiably on all neural network weights'"
   ]
  },
  {
   "cell_type": "markdown",
   "metadata": {},
   "source": [
    "Create ~~adam~~ your favorite optimizer for the network."
   ]
  },
  {
   "cell_type": "code",
   "execution_count": 34,
   "metadata": {},
   "outputs": [],
   "source": [
    "learning_rate = 0.001\n",
    "optimizer = torch.optim.Adam(network.parameters(), lr=learning_rate)"
   ]
  },
  {
   "cell_type": "markdown",
   "metadata": {},
   "source": [
    "# Training\n",
    "\n",
    "* First implement the batch generator\n",
    "* Than train the network as usual"
   ]
  },
  {
   "cell_type": "code",
   "execution_count": 35,
   "metadata": {},
   "outputs": [],
   "source": [
    "from sklearn.model_selection import train_test_split\n",
    "captions = np.array(captions)\n",
    "train_img_codes, val_img_codes, train_captions, val_captions = train_test_split(img_codes, captions,\n",
    "                                                                                test_size=0.1,\n",
    "                                                                                random_state=42)"
   ]
  },
  {
   "cell_type": "code",
   "execution_count": 36,
   "metadata": {},
   "outputs": [],
   "source": [
    "from random import choice\n",
    "\n",
    "def generate_batch(img_codes, captions, batch_size, max_caption_len=None):\n",
    "    \n",
    "    #sample random numbers for image/caption indicies\n",
    "    random_image_ix = np.random.randint(0, len(img_codes), size=batch_size)\n",
    "    \n",
    "    #get images\n",
    "    batch_images = img_codes[random_image_ix]\n",
    "    \n",
    "    #5-7 captions for each image\n",
    "    captions_for_batch_images = captions[random_image_ix]\n",
    "    \n",
    "    #pick one from a set of captions for each image\n",
    "    batch_captions = list(map(choice,captions_for_batch_images))\n",
    "    \n",
    "    #convert to matrix\n",
    "    batch_captions_ix = as_matrix(batch_captions,max_len=max_caption_len)\n",
    "    \n",
    "    return torch.tensor(batch_images, dtype=torch.float32), torch.tensor(batch_captions_ix, dtype=torch.int64)\n",
    "    "
   ]
  },
  {
   "cell_type": "code",
   "execution_count": 37,
   "metadata": {},
   "outputs": [
    {
     "data": {
      "text/plain": [
       "(tensor([[0.2066, 0.2607, 0.3700,  ..., 0.0854, 0.9832, 0.5133],\n",
       "         [0.2262, 0.2319, 1.1495,  ..., 0.1744, 0.5866, 0.1421],\n",
       "         [0.1092, 0.4717, 0.2056,  ..., 0.1751, 0.9330, 0.0000]]),\n",
       " tensor([[   1,   24,   54,  291,  300,   58,  437,   15,   11,   12,    2,    3,\n",
       "             3,    3,    3],\n",
       "         [   1,  149,  140,  331,  163,  331,  174,    4, 1701,   35,   45,   97,\n",
       "            12,    2,    3],\n",
       "         [   1,   24,  373,  357,   58,   24,  319, 1118, 1280,  357, 5108,    7,\n",
       "          1084,   12,    2]]))"
      ]
     },
     "execution_count": 37,
     "metadata": {},
     "output_type": "execute_result"
    }
   ],
   "source": [
    "generate_batch(img_codes,captions,3)"
   ]
  },
  {
   "cell_type": "markdown",
   "metadata": {},
   "source": [
    "### Main loop\n",
    "\n",
    "Train on minibatches just as usual. Evaluate on val from time to time.\n",
    "\n",
    "##### TIps\n",
    "* If training loss has become close to 0 or model produces garbage,\n",
    "    double-check that you're predicting __next__ words, not current or t+2'th words.\n",
    "* If the model generates fluent captions that have nothing to do with the images\n",
    " * this may be due to recurrent net not receiving image vectors.\n",
    " * alternatively it may be caused by gradient explosion, try clipping 'em or just restarting the training\n",
    " * finally, you may just need to train the model a bit more\n",
    "\n",
    "\n",
    "* Crossentropy is a poor measure of overfitting\n",
    " * Model can overfit validation crossentropy but keep improving validation quality.\n",
    " * Use human _(manual)_ evaluation or try automated metrics: [cider](https://github.com/vrama91/cider) or [bleu](https://www.nltk.org/_modules/nltk/translate/bleu_score.html)\n",
    " \n",
    "\n",
    "* We recommend you to periodically evaluate the network using the next \"apply trained model\" block\n",
    " *  its safe to interrupt training, run a few examples and start training again\n",
    " \n",
    "* The typical loss values should be around 3~5 if you average over time, scale by length if you sum over time. The reasonable captions began appearing at loss=2.8 ~ 3.0\n",
    " "
   ]
  },
  {
   "cell_type": "code",
   "execution_count": 38,
   "metadata": {},
   "outputs": [],
   "source": [
    "device = torch.device(\"cuda:0\") # Let's make sure GPU is available!"
   ]
  },
  {
   "cell_type": "code",
   "execution_count": 39,
   "metadata": {},
   "outputs": [],
   "source": [
    "batch_size = 64  # adjust me\n",
    "n_epochs = 50  # adjust me\n",
    "n_batches_per_epoch = 30 # adjust me\n",
    "n_validation_batches = 5  # how many batches are used for validation after each epoch"
   ]
  },
  {
   "cell_type": "code",
   "execution_count": 40,
   "metadata": {
    "scrolled": false
   },
   "outputs": [
    {
     "name": "stderr",
     "output_type": "stream",
     "text": [
      "100%|██████████| 30/30 [00:07<00:00,  3.91it/s]\n",
      "  0%|          | 0/30 [00:00<?, ?it/s]"
     ]
    },
    {
     "name": "stdout",
     "output_type": "stream",
     "text": [
      "\n",
      "Epoch: 0, train loss: 6.662981573740641, val loss: 5.207280254364013\n"
     ]
    },
    {
     "name": "stderr",
     "output_type": "stream",
     "text": [
      "100%|██████████| 30/30 [00:07<00:00,  4.22it/s]\n",
      "  3%|▎         | 1/30 [00:00<00:05,  5.26it/s]"
     ]
    },
    {
     "name": "stdout",
     "output_type": "stream",
     "text": [
      "\n",
      "Epoch: 1, train loss: 5.036414321263631, val loss: 4.814770698547363\n"
     ]
    },
    {
     "name": "stderr",
     "output_type": "stream",
     "text": [
      "100%|██████████| 30/30 [00:07<00:00,  4.21it/s]\n",
      "  0%|          | 0/30 [00:00<?, ?it/s]"
     ]
    },
    {
     "name": "stdout",
     "output_type": "stream",
     "text": [
      "\n",
      "Epoch: 2, train loss: 4.727440643310547, val loss: 4.554365730285644\n"
     ]
    },
    {
     "name": "stderr",
     "output_type": "stream",
     "text": [
      "100%|██████████| 30/30 [00:07<00:00,  4.45it/s]\n",
      "  0%|          | 0/30 [00:00<?, ?it/s]"
     ]
    },
    {
     "name": "stdout",
     "output_type": "stream",
     "text": [
      "\n",
      "Epoch: 3, train loss: 4.516951227188111, val loss: 4.4053699493408205\n"
     ]
    },
    {
     "name": "stderr",
     "output_type": "stream",
     "text": [
      "100%|██████████| 30/30 [00:06<00:00,  4.50it/s]\n",
      "  0%|          | 0/30 [00:00<?, ?it/s]"
     ]
    },
    {
     "name": "stdout",
     "output_type": "stream",
     "text": [
      "\n",
      "Epoch: 4, train loss: 4.390765539805094, val loss: 4.30089921951294\n"
     ]
    },
    {
     "name": "stderr",
     "output_type": "stream",
     "text": [
      "100%|██████████| 30/30 [00:07<00:00,  2.79it/s]\n",
      "  0%|          | 0/30 [00:00<?, ?it/s]"
     ]
    },
    {
     "name": "stdout",
     "output_type": "stream",
     "text": [
      "\n",
      "Epoch: 5, train loss: 4.256729992230733, val loss: 4.219640731811523\n"
     ]
    },
    {
     "name": "stderr",
     "output_type": "stream",
     "text": [
      "100%|██████████| 30/30 [00:07<00:00,  3.83it/s]\n",
      "  3%|▎         | 1/30 [00:00<00:05,  5.11it/s]"
     ]
    },
    {
     "name": "stdout",
     "output_type": "stream",
     "text": [
      "\n",
      "Epoch: 6, train loss: 4.174913962682088, val loss: 4.082473802566528\n"
     ]
    },
    {
     "name": "stderr",
     "output_type": "stream",
     "text": [
      "100%|██████████| 30/30 [00:07<00:00,  4.27it/s]\n",
      "  3%|▎         | 1/30 [00:00<00:05,  5.50it/s]"
     ]
    },
    {
     "name": "stdout",
     "output_type": "stream",
     "text": [
      "\n",
      "Epoch: 7, train loss: 4.138389078776042, val loss: 4.005251073837281\n"
     ]
    },
    {
     "name": "stderr",
     "output_type": "stream",
     "text": [
      "100%|██████████| 30/30 [00:07<00:00,  3.38it/s]\n",
      "  0%|          | 0/30 [00:00<?, ?it/s]"
     ]
    },
    {
     "name": "stdout",
     "output_type": "stream",
     "text": [
      "\n",
      "Epoch: 8, train loss: 4.033521135648091, val loss: 4.020404434204101\n"
     ]
    },
    {
     "name": "stderr",
     "output_type": "stream",
     "text": [
      "100%|██████████| 30/30 [00:07<00:00,  3.93it/s]\n",
      "  0%|          | 0/30 [00:00<?, ?it/s]"
     ]
    },
    {
     "name": "stdout",
     "output_type": "stream",
     "text": [
      "\n",
      "Epoch: 9, train loss: 3.9828094720840452, val loss: 3.949772024154663\n"
     ]
    },
    {
     "name": "stderr",
     "output_type": "stream",
     "text": [
      "100%|██████████| 30/30 [00:07<00:00,  3.36it/s]\n",
      "  3%|▎         | 1/30 [00:00<00:05,  5.27it/s]"
     ]
    },
    {
     "name": "stdout",
     "output_type": "stream",
     "text": [
      "\n",
      "Epoch: 10, train loss: 3.9125322103500366, val loss: 3.851159858703613\n"
     ]
    },
    {
     "name": "stderr",
     "output_type": "stream",
     "text": [
      "100%|██████████| 30/30 [00:07<00:00,  4.44it/s]\n",
      "  0%|          | 0/30 [00:00<?, ?it/s]"
     ]
    },
    {
     "name": "stdout",
     "output_type": "stream",
     "text": [
      "\n",
      "Epoch: 11, train loss: 3.869002644220988, val loss: 3.8141037464141845\n"
     ]
    },
    {
     "name": "stderr",
     "output_type": "stream",
     "text": [
      "100%|██████████| 30/30 [00:08<00:00,  3.07it/s]\n",
      "  0%|          | 0/30 [00:00<?, ?it/s]"
     ]
    },
    {
     "name": "stdout",
     "output_type": "stream",
     "text": [
      "\n",
      "Epoch: 12, train loss: 3.8101281404495237, val loss: 3.791103982925415\n"
     ]
    },
    {
     "name": "stderr",
     "output_type": "stream",
     "text": [
      "100%|██████████| 30/30 [00:07<00:00,  4.53it/s]\n",
      "  0%|          | 0/30 [00:00<?, ?it/s]"
     ]
    },
    {
     "name": "stdout",
     "output_type": "stream",
     "text": [
      "\n",
      "Epoch: 13, train loss: 3.7074984073638917, val loss: 3.6860777378082275\n"
     ]
    },
    {
     "name": "stderr",
     "output_type": "stream",
     "text": [
      "100%|██████████| 30/30 [00:07<00:00,  3.96it/s]\n",
      "  0%|          | 0/30 [00:00<?, ?it/s]"
     ]
    },
    {
     "name": "stdout",
     "output_type": "stream",
     "text": [
      "\n",
      "Epoch: 14, train loss: 3.7175065914789838, val loss: 3.679935169219971\n"
     ]
    },
    {
     "name": "stderr",
     "output_type": "stream",
     "text": [
      "100%|██████████| 30/30 [00:07<00:00,  3.45it/s]\n",
      "  0%|          | 0/30 [00:00<?, ?it/s]"
     ]
    },
    {
     "name": "stdout",
     "output_type": "stream",
     "text": [
      "\n",
      "Epoch: 15, train loss: 3.6438027222951255, val loss: 3.6923195362091064\n"
     ]
    },
    {
     "name": "stderr",
     "output_type": "stream",
     "text": [
      "100%|██████████| 30/30 [00:07<00:00,  4.10it/s]\n",
      "  3%|▎         | 1/30 [00:00<00:04,  5.89it/s]"
     ]
    },
    {
     "name": "stdout",
     "output_type": "stream",
     "text": [
      "\n",
      "Epoch: 16, train loss: 3.6187955776850385, val loss: 3.5813347816467287\n"
     ]
    },
    {
     "name": "stderr",
     "output_type": "stream",
     "text": [
      "100%|██████████| 30/30 [00:07<00:00,  3.80it/s]\n",
      "  0%|          | 0/30 [00:00<?, ?it/s]"
     ]
    },
    {
     "name": "stdout",
     "output_type": "stream",
     "text": [
      "\n",
      "Epoch: 17, train loss: 3.6028870662053425, val loss: 3.5028594493865968\n"
     ]
    },
    {
     "name": "stderr",
     "output_type": "stream",
     "text": [
      "100%|██████████| 30/30 [00:06<00:00,  4.54it/s]\n",
      "  0%|          | 0/30 [00:00<?, ?it/s]"
     ]
    },
    {
     "name": "stdout",
     "output_type": "stream",
     "text": [
      "\n",
      "Epoch: 18, train loss: 3.481099239985148, val loss: 3.4565967559814452\n"
     ]
    },
    {
     "name": "stderr",
     "output_type": "stream",
     "text": [
      "100%|██████████| 30/30 [00:06<00:00,  3.84it/s]\n",
      "  0%|          | 0/30 [00:00<?, ?it/s]"
     ]
    },
    {
     "name": "stdout",
     "output_type": "stream",
     "text": [
      "\n",
      "Epoch: 19, train loss: 3.4968316555023193, val loss: 3.5276002883911133\n"
     ]
    },
    {
     "name": "stderr",
     "output_type": "stream",
     "text": [
      "100%|██████████| 30/30 [00:07<00:00,  4.50it/s]\n",
      "  0%|          | 0/30 [00:00<?, ?it/s]"
     ]
    },
    {
     "name": "stdout",
     "output_type": "stream",
     "text": [
      "\n",
      "Epoch: 20, train loss: 3.461409815152486, val loss: 3.500709629058838\n"
     ]
    },
    {
     "name": "stderr",
     "output_type": "stream",
     "text": [
      "100%|██████████| 30/30 [00:07<00:00,  4.52it/s]\n",
      "  0%|          | 0/30 [00:00<?, ?it/s]"
     ]
    },
    {
     "name": "stdout",
     "output_type": "stream",
     "text": [
      "\n",
      "Epoch: 21, train loss: 3.460590863227844, val loss: 3.4550196647644045\n"
     ]
    },
    {
     "name": "stderr",
     "output_type": "stream",
     "text": [
      "100%|██████████| 30/30 [00:06<00:00,  4.44it/s]\n",
      "  0%|          | 0/30 [00:00<?, ?it/s]"
     ]
    },
    {
     "name": "stdout",
     "output_type": "stream",
     "text": [
      "\n",
      "Epoch: 22, train loss: 3.374341694513957, val loss: 3.335970401763916\n"
     ]
    },
    {
     "name": "stderr",
     "output_type": "stream",
     "text": [
      "100%|██████████| 30/30 [00:06<00:00,  4.14it/s]\n",
      "  0%|          | 0/30 [00:00<?, ?it/s]"
     ]
    },
    {
     "name": "stdout",
     "output_type": "stream",
     "text": [
      "\n",
      "Epoch: 23, train loss: 3.3686356782913207, val loss: 3.4814013957977297\n"
     ]
    },
    {
     "name": "stderr",
     "output_type": "stream",
     "text": [
      "100%|██████████| 30/30 [00:06<00:00,  3.86it/s]\n",
      "  0%|          | 0/30 [00:00<?, ?it/s]"
     ]
    },
    {
     "name": "stdout",
     "output_type": "stream",
     "text": [
      "\n",
      "Epoch: 24, train loss: 3.358744176228841, val loss: 3.4133224964141844\n"
     ]
    },
    {
     "name": "stderr",
     "output_type": "stream",
     "text": [
      "100%|██████████| 30/30 [00:08<00:00,  3.08it/s]\n",
      "  0%|          | 0/30 [00:00<?, ?it/s]"
     ]
    },
    {
     "name": "stdout",
     "output_type": "stream",
     "text": [
      "\n",
      "Epoch: 25, train loss: 3.341993006070455, val loss: 3.3380024433135986\n"
     ]
    },
    {
     "name": "stderr",
     "output_type": "stream",
     "text": [
      "100%|██████████| 30/30 [00:09<00:00,  3.51it/s]\n",
      "  0%|          | 0/30 [00:00<?, ?it/s]"
     ]
    },
    {
     "name": "stdout",
     "output_type": "stream",
     "text": [
      "\n",
      "Epoch: 26, train loss: 3.293785802523295, val loss: 3.361238956451416\n"
     ]
    },
    {
     "name": "stderr",
     "output_type": "stream",
     "text": [
      "100%|██████████| 30/30 [00:07<00:00,  3.98it/s]\n",
      "  0%|          | 0/30 [00:00<?, ?it/s]"
     ]
    },
    {
     "name": "stdout",
     "output_type": "stream",
     "text": [
      "\n",
      "Epoch: 27, train loss: 3.2788841009140013, val loss: 3.235761785507202\n"
     ]
    },
    {
     "name": "stderr",
     "output_type": "stream",
     "text": [
      "100%|██████████| 30/30 [00:08<00:00,  3.67it/s]\n",
      "  0%|          | 0/30 [00:00<?, ?it/s]"
     ]
    },
    {
     "name": "stdout",
     "output_type": "stream",
     "text": [
      "\n",
      "Epoch: 28, train loss: 3.252129809061686, val loss: 3.3409733295440676\n"
     ]
    },
    {
     "name": "stderr",
     "output_type": "stream",
     "text": [
      "100%|██████████| 30/30 [00:08<00:00,  4.38it/s]\n",
      "  0%|          | 0/30 [00:00<?, ?it/s]"
     ]
    },
    {
     "name": "stdout",
     "output_type": "stream",
     "text": [
      "\n",
      "Epoch: 29, train loss: 3.2518167893091836, val loss: 3.2703339099884032\n"
     ]
    },
    {
     "name": "stderr",
     "output_type": "stream",
     "text": [
      "100%|██████████| 30/30 [00:08<00:00,  4.09it/s]\n",
      "  0%|          | 0/30 [00:00<?, ?it/s]"
     ]
    },
    {
     "name": "stdout",
     "output_type": "stream",
     "text": [
      "\n",
      "Epoch: 30, train loss: 3.22449373404185, val loss: 3.2178069591522216\n"
     ]
    },
    {
     "name": "stderr",
     "output_type": "stream",
     "text": [
      "100%|██████████| 30/30 [00:07<00:00,  3.86it/s]\n",
      "  0%|          | 0/30 [00:00<?, ?it/s]"
     ]
    },
    {
     "name": "stdout",
     "output_type": "stream",
     "text": [
      "\n",
      "Epoch: 31, train loss: 3.229445044199626, val loss: 3.123876857757568\n"
     ]
    },
    {
     "name": "stderr",
     "output_type": "stream",
     "text": [
      "100%|██████████| 30/30 [00:07<00:00,  4.00it/s]\n",
      "  0%|          | 0/30 [00:00<?, ?it/s]"
     ]
    },
    {
     "name": "stdout",
     "output_type": "stream",
     "text": [
      "\n",
      "Epoch: 32, train loss: 3.2098604599634806, val loss: 3.2068081855773927\n"
     ]
    },
    {
     "name": "stderr",
     "output_type": "stream",
     "text": [
      "100%|██████████| 30/30 [00:07<00:00,  3.27it/s]\n",
      "  0%|          | 0/30 [00:00<?, ?it/s]"
     ]
    },
    {
     "name": "stdout",
     "output_type": "stream",
     "text": [
      "\n",
      "Epoch: 33, train loss: 3.157504614194234, val loss: 3.2357026100158692\n"
     ]
    },
    {
     "name": "stderr",
     "output_type": "stream",
     "text": [
      "100%|██████████| 30/30 [00:07<00:00,  4.18it/s]\n",
      "  0%|          | 0/30 [00:00<?, ?it/s]"
     ]
    },
    {
     "name": "stdout",
     "output_type": "stream",
     "text": [
      "\n",
      "Epoch: 34, train loss: 3.133297840754191, val loss: 3.1680453300476072\n"
     ]
    },
    {
     "name": "stderr",
     "output_type": "stream",
     "text": [
      "100%|██████████| 30/30 [00:07<00:00,  4.27it/s]\n",
      "  0%|          | 0/30 [00:00<?, ?it/s]"
     ]
    },
    {
     "name": "stdout",
     "output_type": "stream",
     "text": [
      "\n",
      "Epoch: 35, train loss: 3.121640960375468, val loss: 3.1712886810302736\n"
     ]
    },
    {
     "name": "stderr",
     "output_type": "stream",
     "text": [
      "100%|██████████| 30/30 [00:07<00:00,  4.21it/s]\n",
      "  3%|▎         | 1/30 [00:00<00:05,  5.06it/s]"
     ]
    },
    {
     "name": "stdout",
     "output_type": "stream",
     "text": [
      "\n",
      "Epoch: 36, train loss: 3.1459335406621296, val loss: 3.1215757846832277\n"
     ]
    },
    {
     "name": "stderr",
     "output_type": "stream",
     "text": [
      "100%|██████████| 30/30 [00:07<00:00,  4.09it/s]\n",
      "  0%|          | 0/30 [00:00<?, ?it/s]"
     ]
    },
    {
     "name": "stdout",
     "output_type": "stream",
     "text": [
      "\n",
      "Epoch: 37, train loss: 3.1040727615356447, val loss: 3.169002389907837\n"
     ]
    },
    {
     "name": "stderr",
     "output_type": "stream",
     "text": [
      "100%|██████████| 30/30 [00:07<00:00,  4.04it/s]\n",
      "  0%|          | 0/30 [00:00<?, ?it/s]"
     ]
    },
    {
     "name": "stdout",
     "output_type": "stream",
     "text": [
      "\n",
      "Epoch: 38, train loss: 3.1118750174840293, val loss: 3.172533559799194\n"
     ]
    },
    {
     "name": "stderr",
     "output_type": "stream",
     "text": [
      "100%|██████████| 30/30 [00:08<00:00,  3.84it/s]\n",
      "  0%|          | 0/30 [00:00<?, ?it/s]"
     ]
    },
    {
     "name": "stdout",
     "output_type": "stream",
     "text": [
      "\n",
      "Epoch: 39, train loss: 3.106318394343058, val loss: 3.057396984100342\n"
     ]
    },
    {
     "name": "stderr",
     "output_type": "stream",
     "text": [
      "100%|██████████| 30/30 [00:07<00:00,  4.50it/s]\n",
      "  3%|▎         | 1/30 [00:00<00:05,  5.36it/s]"
     ]
    },
    {
     "name": "stdout",
     "output_type": "stream",
     "text": [
      "\n",
      "Epoch: 40, train loss: 3.0810822089513143, val loss: 3.049751710891724\n"
     ]
    },
    {
     "name": "stderr",
     "output_type": "stream",
     "text": [
      "100%|██████████| 30/30 [00:06<00:00,  4.66it/s]\n",
      "  0%|          | 0/30 [00:00<?, ?it/s]"
     ]
    },
    {
     "name": "stdout",
     "output_type": "stream",
     "text": [
      "\n",
      "Epoch: 41, train loss: 3.039973489443461, val loss: 3.0722291469573975\n"
     ]
    },
    {
     "name": "stderr",
     "output_type": "stream",
     "text": [
      "100%|██████████| 30/30 [00:09<00:00,  2.93it/s]\n",
      "  0%|          | 0/30 [00:00<?, ?it/s]"
     ]
    },
    {
     "name": "stdout",
     "output_type": "stream",
     "text": [
      "\n",
      "Epoch: 42, train loss: 3.0715654214223225, val loss: 2.9941238880157472\n"
     ]
    },
    {
     "name": "stderr",
     "output_type": "stream",
     "text": [
      "100%|██████████| 30/30 [00:08<00:00,  3.60it/s]\n",
      "  0%|          | 0/30 [00:00<?, ?it/s]"
     ]
    },
    {
     "name": "stdout",
     "output_type": "stream",
     "text": [
      "\n",
      "Epoch: 43, train loss: 3.021336579322815, val loss: 3.096654272079468\n"
     ]
    },
    {
     "name": "stderr",
     "output_type": "stream",
     "text": [
      "100%|██████████| 30/30 [00:08<00:00,  3.22it/s]\n",
      "  0%|          | 0/30 [00:00<?, ?it/s]"
     ]
    },
    {
     "name": "stdout",
     "output_type": "stream",
     "text": [
      "\n",
      "Epoch: 44, train loss: 3.066325640678406, val loss: 3.0546818733215333\n"
     ]
    },
    {
     "name": "stderr",
     "output_type": "stream",
     "text": [
      "100%|██████████| 30/30 [00:08<00:00,  3.59it/s]\n",
      "  0%|          | 0/30 [00:00<?, ?it/s]"
     ]
    },
    {
     "name": "stdout",
     "output_type": "stream",
     "text": [
      "\n",
      "Epoch: 45, train loss: 2.9974376996358236, val loss: 2.9615169048309324\n"
     ]
    },
    {
     "name": "stderr",
     "output_type": "stream",
     "text": [
      "100%|██████████| 30/30 [00:08<00:00,  3.27it/s]\n",
      "  0%|          | 0/30 [00:00<?, ?it/s]"
     ]
    },
    {
     "name": "stdout",
     "output_type": "stream",
     "text": [
      "\n",
      "Epoch: 46, train loss: 3.021608757972717, val loss: 3.036851644515991\n"
     ]
    },
    {
     "name": "stderr",
     "output_type": "stream",
     "text": [
      "100%|██████████| 30/30 [00:08<00:00,  3.48it/s]\n",
      "  0%|          | 0/30 [00:00<?, ?it/s]"
     ]
    },
    {
     "name": "stdout",
     "output_type": "stream",
     "text": [
      "\n",
      "Epoch: 47, train loss: 2.9797301292419434, val loss: 3.042209434509277\n"
     ]
    },
    {
     "name": "stderr",
     "output_type": "stream",
     "text": [
      "100%|██████████| 30/30 [00:08<00:00,  4.30it/s]\n",
      "  0%|          | 0/30 [00:00<?, ?it/s]"
     ]
    },
    {
     "name": "stdout",
     "output_type": "stream",
     "text": [
      "\n",
      "Epoch: 48, train loss: 2.9621667782465617, val loss: 3.09064302444458\n"
     ]
    },
    {
     "name": "stderr",
     "output_type": "stream",
     "text": [
      "100%|██████████| 30/30 [00:07<00:00,  3.90it/s]\n"
     ]
    },
    {
     "name": "stdout",
     "output_type": "stream",
     "text": [
      "\n",
      "Epoch: 49, train loss: 3.0027518033981324, val loss: 2.988935852050781\n",
      "Finished!\n"
     ]
    }
   ],
   "source": [
    "from tqdm import tqdm\n",
    "\n",
    "for epoch in range(n_epochs):\n",
    "    \n",
    "    train_loss=0\n",
    "    network.train(True)\n",
    "    for _ in tqdm(range(n_batches_per_epoch)):\n",
    "        \n",
    "        loss_t = compute_loss(network, *generate_batch(train_img_codes, train_captions, batch_size))\n",
    "        \n",
    "        \n",
    "        # clear old gradients; do a backward pass to get new gradients; then train with opt\n",
    "        optimizer.zero_grad()\n",
    "        loss_t.backward()\n",
    "        optimizer.step()\n",
    "        \n",
    "        \n",
    "        train_loss += loss_t.item()\n",
    "        \n",
    "    train_loss /= n_batches_per_epoch\n",
    "    \n",
    "    val_loss=0\n",
    "    network.train(False)\n",
    "    for _ in range(n_validation_batches):\n",
    "        loss_t = compute_loss(network, *generate_batch(val_img_codes, val_captions, batch_size))\n",
    "        val_loss += loss_t.item()\n",
    "    val_loss /= n_validation_batches\n",
    "    \n",
    "    print('\\nEpoch: {}, train loss: {}, val loss: {}'.format(epoch, train_loss, val_loss))\n",
    "\n",
    "print(\"Finished!\")"
   ]
  },
  {
   "cell_type": "markdown",
   "metadata": {},
   "source": [
    "### Apply trained model\n",
    "\n",
    "Let's unpack our pre-trained inception network and see what our model is capable of."
   ]
  },
  {
   "cell_type": "code",
   "execution_count": 41,
   "metadata": {},
   "outputs": [],
   "source": [
    "from beheaded_inception3 import beheaded_inception_v3\n",
    "inception = beheaded_inception_v3().train(False)"
   ]
  },
  {
   "cell_type": "markdown",
   "metadata": {},
   "source": [
    "### Generate caption\n",
    "\n",
    "The function below creates captions by sampling from probabilities defined by the net.\n",
    "\n",
    "The implementation used here is simple but inefficient (quadratic in lstm steps). We keep it that way since it isn't a performance bottleneck."
   ]
  },
  {
   "cell_type": "code",
   "execution_count": 42,
   "metadata": {},
   "outputs": [],
   "source": [
    "def generate_caption(image, caption_prefix=(\"#START#\",), \n",
    "                     t=1, sample=True, max_len=100):\n",
    "    assert isinstance(image, np.ndarray) and np.max(image) <= 1\\\n",
    "           and np.min(image) >=0 and image.shape[-1] == 3\n",
    "    \n",
    "    with torch.no_grad():\n",
    "        image = torch.tensor(image.transpose([2, 0, 1]), dtype=torch.float32)\n",
    "\n",
    "        vectors_8x8, vectors_neck, logits = inception(image[None])\n",
    "        caption_prefix = list(caption_prefix)\n",
    "\n",
    "        for _ in range(max_len):\n",
    "\n",
    "            prefix_ix = as_matrix([caption_prefix])\n",
    "            prefix_ix = torch.tensor(prefix_ix, dtype=torch.int64)\n",
    "            next_word_logits = network.forward(vectors_neck, prefix_ix)[0, -1]\n",
    "            next_word_probs = F.softmax(next_word_logits, dim=-1).data.numpy()\n",
    "\n",
    "            assert len(next_word_probs.shape) ==1, 'probs must be one-dimensional'\n",
    "            next_word_probs = next_word_probs ** t / np.sum(next_word_probs ** t) # apply temperature\n",
    "\n",
    "            if sample:\n",
    "                next_word = np.random.choice(vocab, p=next_word_probs) \n",
    "            else:\n",
    "                next_word = vocab[np.argmax(next_word_probs)]\n",
    "\n",
    "            caption_prefix.append(next_word)\n",
    "\n",
    "            if next_word == \"#END#\":\n",
    "                break\n",
    "            \n",
    "    return caption_prefix"
   ]
  },
  {
   "cell_type": "code",
   "execution_count": 54,
   "metadata": {},
   "outputs": [
    {
     "name": "stdout",
     "output_type": "stream",
     "text": [
      "--2020-05-08 05:38:20--  https://pixel.nymag.com/imgs/daily/selectall/2018/02/12/12-tony-hawk.w710.h473.jpg\n",
      "Resolving pixel.nymag.com (pixel.nymag.com)... 151.101.120.70\n",
      "Connecting to pixel.nymag.com (pixel.nymag.com)|151.101.120.70|:443... connected.\n",
      "HTTP request sent, awaiting response... 301 Moved Permanently\n",
      "Location: https://pyxis.nymag.com/v1/imgs/6ac/2a6/b48d3a180f333298f5bee60ff80f4ba886-12-tony-hawk.h473.w710.jpg [following]\n",
      "--2020-05-08 05:38:21--  https://pyxis.nymag.com/v1/imgs/6ac/2a6/b48d3a180f333298f5bee60ff80f4ba886-12-tony-hawk.h473.w710.jpg\n",
      "Resolving pyxis.nymag.com (pyxis.nymag.com)... 151.101.122.217\n",
      "Connecting to pyxis.nymag.com (pyxis.nymag.com)|151.101.122.217|:443... connected.\n",
      "HTTP request sent, awaiting response... 200 OK\n",
      "Length: 54731 (53K) [image/jpeg]\n",
      "Saving to: ‘data/img.jpg’\n",
      "\n",
      "data/img.jpg        100%[===================>]  53,45K  --.-KB/s    in 0,1s    \n",
      "\n",
      "2020-05-08 05:38:21 (549 KB/s) - ‘data/img.jpg’ saved [54731/54731]\n",
      "\n",
      "--2020-05-08 05:38:21--  https://steelhero.ru/sites/default/files/photo-24_0.jpg\n",
      "Resolving steelhero.ru (steelhero.ru)... 51.91.176.39\n",
      "Connecting to steelhero.ru (steelhero.ru)|51.91.176.39|:443... connected.\n",
      "HTTP request sent, awaiting response... 200 OK\n",
      "Length: 65389 (64K) [image/jpeg]\n",
      "Saving to: ‘data/img.jpg’\n",
      "\n",
      "data/img.jpg        100%[===================>]  63,86K  --.-KB/s    in 0,07s   \n",
      "\n",
      "2020-05-08 05:38:22 (954 KB/s) - ‘data/img.jpg’ saved [65389/65389]\n",
      "\n",
      "--2020-05-08 05:38:22--  https://alev.biz/wp-content/uploads/2017/12/geoffrey_hinton.jpg\n",
      "Resolving alev.biz (alev.biz)... 163.172.138.234\n",
      "Connecting to alev.biz (alev.biz)|163.172.138.234|:443... connected.\n",
      "HTTP request sent, awaiting response... 200 OK\n",
      "Length: 320352 (313K) [image/jpeg]\n",
      "Saving to: ‘data/img.jpg’\n",
      "\n",
      "data/img.jpg        100%[===================>] 312,84K  1,00MB/s    in 0,3s    \n",
      "\n",
      "2020-05-08 05:38:22 (1,00 MB/s) - ‘data/img.jpg’ saved [320352/320352]\n",
      "\n"
     ]
    }
   ],
   "source": [
    "from matplotlib import pyplot as plt\n",
    "from PIL import Image\n",
    "%matplotlib inline\n",
    "\n",
    "#sample image\n",
    "!wget https://pixel.nymag.com/imgs/daily/selectall/2018/02/12/12-tony-hawk.w710.h473.jpg -O data/img.jpg\n",
    "!wget https://steelhero.ru/sites/default/files/photo-24_0.jpg -O data/img.jpg\n",
    "!wget https://alev.biz/wp-content/uploads/2017/12/geoffrey_hinton.jpg  -O data/img.jpg\n",
    "img = plt.imread('data/img.jpg')\n",
    "img = np.array(Image.fromarray(img).resize((299, 299)), dtype='float32') / 255."
   ]
  },
  {
   "cell_type": "code",
   "execution_count": 55,
   "metadata": {},
   "outputs": [
    {
     "data": {
      "text/plain": [
       "<matplotlib.image.AxesImage at 0x7fbbc0d05e10>"
      ]
     },
     "execution_count": 55,
     "metadata": {},
     "output_type": "execute_result"
    },
    {
     "data": {
      "image/png": "[encoded data removed]",
      "text/plain": [
       "<Figure size 432x288 with 1 Axes>"
      ]
     },
     "metadata": {
      "needs_background": "light"
     },
     "output_type": "display_data"
    }
   ],
   "source": [
    "plt.imshow(img)"
   ]
  },
  {
   "cell_type": "code",
   "execution_count": 56,
   "metadata": {},
   "outputs": [
    {
     "name": "stdout",
     "output_type": "stream",
     "text": [
      "a man is standing in a park bench .\n",
      "a man in a red shirt is sitting on a bench .\n",
      "a man is standing on a bench in a park .\n",
      "a man sitting on a bench next to a man .\n",
      "a man in a parking meter with a red and white umbrella .\n",
      "a man with a red and white shirt and a woman standing next to a street .\n",
      "a man in a red shirt and a red shirt and a woman is holding a large umbrella .\n",
      "a man is standing next to a motorcycle .\n",
      "a man standing next to a man in a park .\n",
      "a man is walking down a street with a man and a man in a red shirt .\n"
     ]
    }
   ],
   "source": [
    "for i in range(10):\n",
    "    print(' '.join(generate_caption(img, t=5.)[1:-1]))"
   ]
  },
  {
   "cell_type": "code",
   "execution_count": null,
   "metadata": {},
   "outputs": [],
   "source": [
    "!wget http://ccanimalclinic.com/wp-content/uploads/2017/07/Cat-and-dog-1.jpg -O data/img.jpg\n",
    "img = plt.imread('data/img.jpg')\n",
    "img = np.array(Image.fromarray(img).resize((299, 299)), dtype='float32') / 255.\n",
    "\n",
    "plt.imshow(img)\n",
    "plt.show()\n",
    "\n",
    "for i in range(10):\n",
    "    print(' '.join(generate_caption(img, t=5.)[1:-1]))"
   ]
  },
  {
   "cell_type": "markdown",
   "metadata": {},
   "source": [
    "# Demo\n",
    "### Find at least 10 images to test it on.\n",
    "\n",
    "* Seriously, that's a part of the assignment. Go get at least 10 pictures for captioning\n",
    "* Make sure it works okay on __simple__ images before going to something more complex\n",
    "* Your pictures must feature both successful and failed captioning. Get creative :)\n",
    "* Use photos, not animation/3d/drawings, unless you want to re-train CNN network on anime\n",
    "* Mind the aspect ratio."
   ]
  },
  {
   "cell_type": "code",
   "execution_count": null,
   "metadata": {},
   "outputs": [],
   "source": [
    "# apply your networ5k on images you've found25\n",
    "#\n",
    "#"
   ]
  },
  {
   "cell_type": "code",
   "execution_count": null,
   "metadata": {},
   "outputs": [],
   "source": []
  },
  {
   "cell_type": "markdown",
   "metadata": {},
   "source": [
    "Good hunting!\n",
    "![img](https://cs7.pikabu.ru/images/big_size_comm_an/2018-09_3/1536865148163644198.gif)"
   ]
  }
 ],
 "metadata": {
  "kernelspec": {
   "display_name": "Python 3",
   "language": "python",
   "name": "python3"
  },
  "language_info": {
   "codemirror_mode": {
    "name": "ipython",
    "version": 3
   },
   "file_extension": ".py",
   "mimetype": "text/x-python",
   "name": "python",
   "nbconvert_exporter": "python",
   "pygments_lexer": "ipython3",
   "version": "3.7.6"
  }
 },
 "nbformat": 4,
 "nbformat_minor": 1
}
